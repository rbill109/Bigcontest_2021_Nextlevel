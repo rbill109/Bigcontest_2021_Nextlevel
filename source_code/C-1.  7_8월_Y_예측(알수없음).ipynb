{
 "cells": [
  {
   "cell_type": "code",
   "execution_count": 1,
   "id": "8e43de7a",
   "metadata": {},
   "outputs": [],
   "source": [
    "import pandas as pd\n",
    "import numpy as np\n",
    "from tqdm import tqdm\n",
    "pd.options.display.float_format = '{:,.4f}'.format\n",
    "pd.options.display.max_rows = 100\n",
    "pd.options.display.max_columns = 40\n",
    "# from pyarrow import csv\n",
    "from datetime import datetime \n",
    "import numpy as np\n",
    "import os, random, math, time, shutil\n",
    "from tqdm import tqdm\n",
    "from copy import deepcopy\n",
    "from collections import Counter\n",
    "\n",
    "# Modeling\n",
    "from neuralprophet import NeuralProphet\n",
    "\n",
    "# Visualization\n",
    "import seaborn as sns\n",
    "import matplotlib\n",
    "import matplotlib.pyplot as plt\n",
    "%matplotlib inline\n",
    "from matplotlib import font_manager, rc\n",
    "plt.rcParams['font.family'] = 'NanumGothic'\n",
    "import platform\n",
    "if platform.system() == 'Windows':\n",
    "    font_name = font_manager.FontProperties(fname=\"c:/Windows/Fonts/malgun.ttf\").get_name()\n",
    "    rc('font', family=font_name)\n",
    "else: \n",
    "    rc('font', family='AppleGothic')\n",
    "\n",
    "# Warnings\n",
    "import warnings\n",
    "warnings.filterwarnings('always')\n",
    "warnings.filterwarnings('ignore')\n",
    "\n",
    "import datetime\n",
    "# from pyarrow import csv\n",
    "import pickle\n",
    "import re\n",
    "\n",
    "# error 함수\n",
    "def MAPE(y_test, y_pred): return np.mean(np.abs((y_test - y_pred) / y_test)) * 100 "
   ]
  },
  {
   "cell_type": "code",
   "execution_count": 2,
   "id": "42b6dc87",
   "metadata": {},
   "outputs": [],
   "source": [
    "def read_file(filename):\n",
    "    df = pd.read_csv(f'{filename}', encoding=\"cp949\")\n",
    "    if sum(df.duplicated(df.columns)) != 0:\n",
    "        print(f\"...There are {sum(df.duplicated(df.columns))} duplicates\\n...Remove them\")\n",
    "        df = df.drop_duplicates()\n",
    "    else:\n",
    "        print(\"...There are no duplicates\")\n",
    "    df.name = filename\n",
    "    print(f\"shape: {df.shape}\")\n",
    "    return df"
   ]
  },
  {
   "cell_type": "markdown",
   "id": "a370bcb6-21ba-4360-ad05-bdd00dfefe1a",
   "metadata": {},
   "source": [
    "# Prophet"
   ]
  },
  {
   "cell_type": "code",
   "execution_count": null,
   "id": "710956a2-d457-459c-a6ab-06ebc5ebc83b",
   "metadata": {
    "id": "8fa56da6"
   },
   "outputs": [],
   "source": [
    "filepath = \"./data\""
   ]
  },
  {
   "cell_type": "code",
   "execution_count": null,
   "id": "378c7d5a-01c9-40ef-bc0b-fe52224b2a11",
   "metadata": {
    "id": "244baf44",
    "outputId": "a0c95b3b-e0fd-4b2d-888e-96a4539881b9"
   },
   "outputs": [
    {
     "name": "stdout",
     "output_type": "stream",
     "text": [
      "...There are no duplicates\n",
      "shape: (2211445, 8)\n"
     ]
    }
   ],
   "source": [
    "waste = read_file(os.path.join(filepath,'01_음식물쓰레기_FOOD_WASTE_210811_update.csv'))\n",
    "un = waste[waste.emd_nm==\"알수없음\"][waste.em_area_cd=='W6Y71C']\n",
    "un = un.groupby([\"base_date\"]).sum().reset_index()\n",
    "un.base_date = pd.to_datetime(un.base_date)\n",
    "un = un[[\"base_date\", \"em_g\"]]"
   ]
  },
  {
   "cell_type": "code",
   "execution_count": 33,
   "id": "29edc2e2-137a-4097-b703-bc95f71549f0",
   "metadata": {
    "colab": {
     "base_uri": "https://localhost:8080/"
    },
    "executionInfo": {
     "elapsed": 308,
     "status": "ok",
     "timestamp": 1631515825674,
     "user": {
      "displayName": "유은영",
      "photoUrl": "https://lh3.googleusercontent.com/a/default-user=s64",
      "userId": "10093053800024141437"
     },
     "user_tz": -540
    },
    "id": "4a1f7220",
    "outputId": "5ac0f389-eba0-4f77-af31-2c9c6f993c8b",
    "scrolled": true
   },
   "outputs": [
    {
     "data": {
      "text/plain": [
       "(352, 2)"
      ]
     },
     "execution_count": 33,
     "metadata": {},
     "output_type": "execute_result"
    }
   ],
   "source": [
    "un.shape"
   ]
  },
  {
   "cell_type": "code",
   "execution_count": 34,
   "id": "45172b6e-4417-4621-bcbc-b89f1a3e37cc",
   "metadata": {
    "colab": {
     "base_uri": "https://localhost:8080/",
     "height": 204
    },
    "executionInfo": {
     "elapsed": 10,
     "status": "ok",
     "timestamp": 1631515827286,
     "user": {
      "displayName": "유은영",
      "photoUrl": "https://lh3.googleusercontent.com/a/default-user=s64",
      "userId": "10093053800024141437"
     },
     "user_tz": -540
    },
    "id": "a1436ff2",
    "outputId": "18bdaadf-2074-4d92-bb36-0ecfd27175b8"
   },
   "outputs": [
    {
     "data": {
      "text/html": [
       "<div>\n",
       "<style scoped>\n",
       "    .dataframe tbody tr th:only-of-type {\n",
       "        vertical-align: middle;\n",
       "    }\n",
       "\n",
       "    .dataframe tbody tr th {\n",
       "        vertical-align: top;\n",
       "    }\n",
       "\n",
       "    .dataframe thead th {\n",
       "        text-align: right;\n",
       "    }\n",
       "</style>\n",
       "<table border=\"1\" class=\"dataframe\">\n",
       "  <thead>\n",
       "    <tr style=\"text-align: right;\">\n",
       "      <th></th>\n",
       "      <th>base_date</th>\n",
       "      <th>em_g</th>\n",
       "    </tr>\n",
       "  </thead>\n",
       "  <tbody>\n",
       "    <tr>\n",
       "      <th>0</th>\n",
       "      <td>2020-07-13</td>\n",
       "      <td>800</td>\n",
       "    </tr>\n",
       "    <tr>\n",
       "      <th>1</th>\n",
       "      <td>2020-07-14</td>\n",
       "      <td>83650</td>\n",
       "    </tr>\n",
       "    <tr>\n",
       "      <th>2</th>\n",
       "      <td>2020-07-15</td>\n",
       "      <td>92900</td>\n",
       "    </tr>\n",
       "    <tr>\n",
       "      <th>3</th>\n",
       "      <td>2020-07-16</td>\n",
       "      <td>96300</td>\n",
       "    </tr>\n",
       "    <tr>\n",
       "      <th>4</th>\n",
       "      <td>2020-07-17</td>\n",
       "      <td>49300</td>\n",
       "    </tr>\n",
       "  </tbody>\n",
       "</table>\n",
       "</div>"
      ],
      "text/plain": [
       "   base_date   em_g\n",
       "0 2020-07-13    800\n",
       "1 2020-07-14  83650\n",
       "2 2020-07-15  92900\n",
       "3 2020-07-16  96300\n",
       "4 2020-07-17  49300"
      ]
     },
     "execution_count": 34,
     "metadata": {},
     "output_type": "execute_result"
    }
   ],
   "source": [
    "un.head()"
   ]
  },
  {
   "cell_type": "code",
   "execution_count": 35,
   "id": "414bffa5-a6b5-47ac-87fe-b013bd81be03",
   "metadata": {
    "executionInfo": {
     "elapsed": 3095,
     "status": "ok",
     "timestamp": 1631515835218,
     "user": {
      "displayName": "유은영",
      "photoUrl": "https://lh3.googleusercontent.com/a/default-user=s64",
      "userId": "10093053800024141437"
     },
     "user_tz": -540
    },
    "id": "b8c703f1"
   },
   "outputs": [],
   "source": [
    "un.columns = [\"ds\", \"y\"]\n",
    "model = Prophet(weekly_seasonality=True, daily_seasonality=False, yearly_seasonality=10, \n",
    "                changepoint_prior_scale=0.05, \n",
    "                seasonality_mode='multiplicative')\n",
    "model.fit(un)\n",
    "future = model.make_future_dataframe(periods=62)\n",
    "forecast = model.predict(future)"
   ]
  },
  {
   "cell_type": "code",
   "execution_count": 36,
   "id": "d5b21f65-d3ee-41c4-8e76-27e2524248e8",
   "metadata": {
    "executionInfo": {
     "elapsed": 319,
     "status": "ok",
     "timestamp": 1631515837015,
     "user": {
      "displayName": "유은영",
      "photoUrl": "https://lh3.googleusercontent.com/a/default-user=s64",
      "userId": "10093053800024141437"
     },
     "user_tz": -540
    },
    "id": "f156690e"
   },
   "outputs": [],
   "source": [
    "sum_7 = sum(forecast.yhat[len(un):len(un)+31])\n",
    "sum_8 = sum(forecast.yhat[len(un)+31: ])"
   ]
  },
  {
   "cell_type": "code",
   "execution_count": 37,
   "id": "d8c91ed8-faac-46cb-b7cd-3774d5c3eba0",
   "metadata": {
    "colab": {
     "base_uri": "https://localhost:8080/"
    },
    "executionInfo": {
     "elapsed": 14,
     "status": "ok",
     "timestamp": 1631515838222,
     "user": {
      "displayName": "유은영",
      "photoUrl": "https://lh3.googleusercontent.com/a/default-user=s64",
      "userId": "10093053800024141437"
     },
     "user_tz": -540
    },
    "id": "86bdf9ef",
    "outputId": "a313b49b-8c1a-4e87-da29-25c18f392062"
   },
   "outputs": [
    {
     "data": {
      "text/plain": [
       "3522040.2464211835"
      ]
     },
     "execution_count": 37,
     "metadata": {},
     "output_type": "execute_result"
    }
   ],
   "source": [
    "sum_7"
   ]
  },
  {
   "cell_type": "code",
   "execution_count": 38,
   "id": "26f62405-d69c-4327-a169-c457c3956987",
   "metadata": {
    "colab": {
     "base_uri": "https://localhost:8080/"
    },
    "executionInfo": {
     "elapsed": 2279,
     "status": "ok",
     "timestamp": 1631515842346,
     "user": {
      "displayName": "유은영",
      "photoUrl": "https://lh3.googleusercontent.com/a/default-user=s64",
      "userId": "10093053800024141437"
     },
     "user_tz": -540
    },
    "id": "814007cd",
    "outputId": "8091f83b-5815-4547-f045-825c2767d3e0"
   },
   "outputs": [
    {
     "data": {
      "text/plain": [
       "4114212.9910302665"
      ]
     },
     "execution_count": 38,
     "metadata": {},
     "output_type": "execute_result"
    }
   ],
   "source": [
    "sum_8"
   ]
  },
  {
   "cell_type": "code",
   "execution_count": 39,
   "id": "1cd00dd1-d699-466b-a838-d8181a46636d",
   "metadata": {
    "executionInfo": {
     "elapsed": 277,
     "status": "ok",
     "timestamp": 1631515847039,
     "user": {
      "displayName": "유은영",
      "photoUrl": "https://lh3.googleusercontent.com/a/default-user=s64",
      "userId": "10093053800024141437"
     },
     "user_tz": -540
    },
    "id": "8b0da50f"
   },
   "outputs": [],
   "source": [
    "forc = pd.DataFrame(forecast[[\"ds\",\"yhat\"]])\n",
    "forc = forc.fillna(0)"
   ]
  },
  {
   "cell_type": "code",
   "execution_count": 40,
   "id": "36a3df4e-6a6f-4276-9f48-d4bae57270b1",
   "metadata": {
    "colab": {
     "base_uri": "https://localhost:8080/"
    },
    "executionInfo": {
     "elapsed": 291,
     "status": "ok",
     "timestamp": 1631515851478,
     "user": {
      "displayName": "유은영",
      "photoUrl": "https://lh3.googleusercontent.com/a/default-user=s64",
      "userId": "10093053800024141437"
     },
     "user_tz": -540
    },
    "id": "192ae940",
    "outputId": "a01771c2-abef-4f55-e863-fc8d034a86f4",
    "scrolled": true
   },
   "outputs": [
    {
     "name": "stdout",
     "output_type": "stream",
     "text": [
      "<class 'pandas.core.frame.DataFrame'>\n",
      "RangeIndex: 414 entries, 0 to 413\n",
      "Data columns (total 2 columns):\n",
      " #   Column  Non-Null Count  Dtype         \n",
      "---  ------  --------------  -----         \n",
      " 0   ds      414 non-null    datetime64[ns]\n",
      " 1   yhat    414 non-null    float64       \n",
      "dtypes: datetime64[ns](1), float64(1)\n",
      "memory usage: 6.6 KB\n"
     ]
    }
   ],
   "source": [
    "forc.info()\n",
    "forc.ds = pd.to_datetime(forc.ds)\n",
    "forc.index = forc.ds"
   ]
  },
  {
   "cell_type": "code",
   "execution_count": 56,
   "id": "ef2fa83a-22ad-4f87-bca9-2232481d77b9",
   "metadata": {
    "executionInfo": {
     "elapsed": 320,
     "status": "ok",
     "timestamp": 1631516123225,
     "user": {
      "displayName": "유은영",
      "photoUrl": "https://lh3.googleusercontent.com/a/default-user=s64",
      "userId": "10093053800024141437"
     },
     "user_tz": -540
    },
    "id": "63c82ae3"
   },
   "outputs": [],
   "source": [
    "forcm = forc.resample(\"M\").sum()\n",
    "forcm['ds']= forcm.index\n",
    "forcm = forcm.reset_index(drop=True)"
   ]
  },
  {
   "cell_type": "code",
   "execution_count": 53,
   "id": "05999431-8853-4fd3-b47c-0efd6d64a279",
   "metadata": {
    "executionInfo": {
     "elapsed": 354,
     "status": "ok",
     "timestamp": 1631516075535,
     "user": {
      "displayName": "유은영",
      "photoUrl": "https://lh3.googleusercontent.com/a/default-user=s64",
      "userId": "10093053800024141437"
     },
     "user_tz": -540
    },
    "id": "xNJC50me52sG"
   },
   "outputs": [],
   "source": [
    "un[\"ds\"] = pd.to_datetime(un.ds)\n",
    "un.index= un.ds\n",
    "unm = un.resample(\"M\").sum()\n",
    "unm[\"ds\"]= unm.index\n",
    "unm = unm.reset_index(drop=True)"
   ]
  },
  {
   "cell_type": "code",
   "execution_count": 57,
   "id": "fdb0b451-fcf5-47bf-9fd9-0d5534c0d248",
   "metadata": {
    "colab": {
     "base_uri": "https://localhost:8080/",
     "height": 483
    },
    "executionInfo": {
     "elapsed": 353,
     "status": "ok",
     "timestamp": 1631516126006,
     "user": {
      "displayName": "유은영",
      "photoUrl": "https://lh3.googleusercontent.com/a/default-user=s64",
      "userId": "10093053800024141437"
     },
     "user_tz": -540
    },
    "id": "7f6ef1f3",
    "outputId": "33fcc4e8-7b42-44ee-80ee-5773ad6e0be0"
   },
   "outputs": [
    {
     "data": {
      "text/html": [
       "<div>\n",
       "<style scoped>\n",
       "    .dataframe tbody tr th:only-of-type {\n",
       "        vertical-align: middle;\n",
       "    }\n",
       "\n",
       "    .dataframe tbody tr th {\n",
       "        vertical-align: top;\n",
       "    }\n",
       "\n",
       "    .dataframe thead th {\n",
       "        text-align: right;\n",
       "    }\n",
       "</style>\n",
       "<table border=\"1\" class=\"dataframe\">\n",
       "  <thead>\n",
       "    <tr style=\"text-align: right;\">\n",
       "      <th></th>\n",
       "      <th>y</th>\n",
       "      <th>yhat</th>\n",
       "      <th>ds</th>\n",
       "    </tr>\n",
       "  </thead>\n",
       "  <tbody>\n",
       "    <tr>\n",
       "      <th>0</th>\n",
       "      <td>1,354,799.0000</td>\n",
       "      <td>1,340,672.0040</td>\n",
       "      <td>2020-07-31</td>\n",
       "    </tr>\n",
       "    <tr>\n",
       "      <th>1</th>\n",
       "      <td>2,305,600.0000</td>\n",
       "      <td>2,257,169.3715</td>\n",
       "      <td>2020-08-31</td>\n",
       "    </tr>\n",
       "    <tr>\n",
       "      <th>2</th>\n",
       "      <td>1,981,300.0000</td>\n",
       "      <td>2,015,349.1016</td>\n",
       "      <td>2020-09-30</td>\n",
       "    </tr>\n",
       "    <tr>\n",
       "      <th>3</th>\n",
       "      <td>2,183,700.0000</td>\n",
       "      <td>2,093,902.4946</td>\n",
       "      <td>2020-10-31</td>\n",
       "    </tr>\n",
       "    <tr>\n",
       "      <th>4</th>\n",
       "      <td>2,030,300.0000</td>\n",
       "      <td>2,134,369.7260</td>\n",
       "      <td>2020-11-30</td>\n",
       "    </tr>\n",
       "    <tr>\n",
       "      <th>5</th>\n",
       "      <td>2,144,000.0000</td>\n",
       "      <td>2,161,157.9587</td>\n",
       "      <td>2020-12-31</td>\n",
       "    </tr>\n",
       "    <tr>\n",
       "      <th>6</th>\n",
       "      <td>2,046,500.0000</td>\n",
       "      <td>1,999,678.0629</td>\n",
       "      <td>2021-01-31</td>\n",
       "    </tr>\n",
       "    <tr>\n",
       "      <th>7</th>\n",
       "      <td>1,977,750.0000</td>\n",
       "      <td>2,043,897.4795</td>\n",
       "      <td>2021-02-28</td>\n",
       "    </tr>\n",
       "    <tr>\n",
       "      <th>8</th>\n",
       "      <td>2,153,800.0000</td>\n",
       "      <td>2,146,638.0206</td>\n",
       "      <td>2021-03-31</td>\n",
       "    </tr>\n",
       "    <tr>\n",
       "      <th>9</th>\n",
       "      <td>1,932,550.0000</td>\n",
       "      <td>1,877,869.7200</td>\n",
       "      <td>2021-04-30</td>\n",
       "    </tr>\n",
       "    <tr>\n",
       "      <th>10</th>\n",
       "      <td>1,910,750.0000</td>\n",
       "      <td>1,922,535.7653</td>\n",
       "      <td>2021-05-31</td>\n",
       "    </tr>\n",
       "    <tr>\n",
       "      <th>11</th>\n",
       "      <td>2,157,850.0000</td>\n",
       "      <td>2,190,194.6337</td>\n",
       "      <td>2021-06-30</td>\n",
       "    </tr>\n",
       "    <tr>\n",
       "      <th>12</th>\n",
       "      <td>nan</td>\n",
       "      <td>3,522,040.2464</td>\n",
       "      <td>2021-07-31</td>\n",
       "    </tr>\n",
       "    <tr>\n",
       "      <th>13</th>\n",
       "      <td>nan</td>\n",
       "      <td>4,114,212.9910</td>\n",
       "      <td>2021-08-31</td>\n",
       "    </tr>\n",
       "  </tbody>\n",
       "</table>\n",
       "</div>"
      ],
      "text/plain": [
       "                y           yhat         ds\n",
       "0  1,354,799.0000 1,340,672.0040 2020-07-31\n",
       "1  2,305,600.0000 2,257,169.3715 2020-08-31\n",
       "2  1,981,300.0000 2,015,349.1016 2020-09-30\n",
       "3  2,183,700.0000 2,093,902.4946 2020-10-31\n",
       "4  2,030,300.0000 2,134,369.7260 2020-11-30\n",
       "5  2,144,000.0000 2,161,157.9587 2020-12-31\n",
       "6  2,046,500.0000 1,999,678.0629 2021-01-31\n",
       "7  1,977,750.0000 2,043,897.4795 2021-02-28\n",
       "8  2,153,800.0000 2,146,638.0206 2021-03-31\n",
       "9  1,932,550.0000 1,877,869.7200 2021-04-30\n",
       "10 1,910,750.0000 1,922,535.7653 2021-05-31\n",
       "11 2,157,850.0000 2,190,194.6337 2021-06-30\n",
       "12            nan 3,522,040.2464 2021-07-31\n",
       "13            nan 4,114,212.9910 2021-08-31"
      ]
     },
     "execution_count": 57,
     "metadata": {},
     "output_type": "execute_result"
    }
   ],
   "source": [
    "forcm = pd.merge(forcm, unm, on=[\"ds\"], how=\"left\")\n",
    "forcm = forcm[[\"y\", 'yhat', 'ds']]\n",
    "forcm"
   ]
  },
  {
   "cell_type": "code",
   "execution_count": 58,
   "id": "902abb3a-8fd2-4030-81bc-eb8939a6d810",
   "metadata": {
    "colab": {
     "base_uri": "https://localhost:8080/"
    },
    "executionInfo": {
     "elapsed": 364,
     "status": "ok",
     "timestamp": 1631516131575,
     "user": {
      "displayName": "유은영",
      "photoUrl": "https://lh3.googleusercontent.com/a/default-user=s64",
      "userId": "10093053800024141437"
     },
     "user_tz": -540
    },
    "id": "7f236aa5",
    "outputId": "b6b5da6b-5816-4041-f077-5a1d332ba341"
   },
   "outputs": [
    {
     "data": {
      "text/plain": [
       "2.151"
      ]
     },
     "execution_count": 58,
     "metadata": {},
     "output_type": "execute_result"
    }
   ],
   "source": [
    "round(MAPE(forcm.y[:12], forcm.yhat[:12]), 3)"
   ]
  },
  {
   "cell_type": "code",
   "execution_count": 63,
   "id": "39606245-b85e-48ef-a889-146b79eb4546",
   "metadata": {
    "executionInfo": {
     "elapsed": 324,
     "status": "ok",
     "timestamp": 1631516415451,
     "user": {
      "displayName": "유은영",
      "photoUrl": "https://lh3.googleusercontent.com/a/default-user=s64",
      "userId": "10093053800024141437"
     },
     "user_tz": -540
    },
    "id": "ba019caa"
   },
   "outputs": [],
   "source": [
    "def double_plot(dat):\n",
    "    plt.figure(figsize=(15, 5))\n",
    "    sns.lineplot(x = dat.ds[:12], y = dat.y[:12], label = \"Observed\", color = \"#006699\")\n",
    "    sns.lineplot(x = dat.ds[:12], y = dat.yhat[:12], label = \"Forecast\", color = \"#ff0066\")\n",
    "    plt.title(\"unknown_pred_prophet\")\n",
    "    plt.show()"
   ]
  },
  {
   "cell_type": "code",
   "execution_count": 64,
   "id": "617a8224-92aa-4e68-84bd-54fe1f0ff63f",
   "metadata": {
    "colab": {
     "base_uri": "https://localhost:8080/",
     "height": 350
    },
    "executionInfo": {
     "elapsed": 9,
     "status": "ok",
     "timestamp": 1631516417036,
     "user": {
      "displayName": "유은영",
      "photoUrl": "https://lh3.googleusercontent.com/a/default-user=s64",
      "userId": "10093053800024141437"
     },
     "user_tz": -540
    },
    "id": "6547d5f6",
    "outputId": "63546001-0335-40d9-ac56-c95e65aad367"
   },
   "outputs": [
    {
     "data": {
      "image/png": "[encoded data removed]",
      "text/plain": [
       "<Figure size 1080x360 with 1 Axes>"
      ]
     },
     "metadata": {
      "needs_background": "light"
     },
     "output_type": "display_data"
    }
   ],
   "source": [
    "double_plot(forcm)"
   ]
  },
  {
   "cell_type": "markdown",
   "id": "945fb176-ee08-4921-bcf7-3ef348b1c88b",
   "metadata": {},
   "source": [
    "# 예측"
   ]
  },
  {
   "cell_type": "code",
   "execution_count": 5,
   "id": "244baf44",
   "metadata": {},
   "outputs": [
    {
     "name": "stdout",
     "output_type": "stream",
     "text": [
      "...There are no duplicates\n",
      "shape: (2211445, 8)\n"
     ]
    }
   ],
   "source": [
    "waste = read_file(os.path.join(filepath,'01_음식물쓰레기_FOOD_WASTE_210811_update.csv'))\n",
    "un = waste[waste.emd_nm==\"알수없음\"][waste.em_area_cd=='W6Y71C']\n",
    "un = un.groupby([\"base_date\"]).sum().reset_index()\n",
    "un.base_date = pd.to_datetime(un.base_date)\n",
    "un = un[[\"base_date\", \"em_g\"]]"
   ]
  },
  {
   "cell_type": "code",
   "execution_count": 6,
   "id": "4a1f7220",
   "metadata": {
    "scrolled": true
   },
   "outputs": [
    {
     "data": {
      "text/plain": [
       "(352, 2)"
      ]
     },
     "execution_count": 6,
     "metadata": {},
     "output_type": "execute_result"
    }
   ],
   "source": [
    "un.shape"
   ]
  },
  {
   "cell_type": "code",
   "execution_count": 7,
   "id": "a1436ff2",
   "metadata": {},
   "outputs": [
    {
     "data": {
      "text/html": [
       "<div>\n",
       "<style scoped>\n",
       "    .dataframe tbody tr th:only-of-type {\n",
       "        vertical-align: middle;\n",
       "    }\n",
       "\n",
       "    .dataframe tbody tr th {\n",
       "        vertical-align: top;\n",
       "    }\n",
       "\n",
       "    .dataframe thead th {\n",
       "        text-align: right;\n",
       "    }\n",
       "</style>\n",
       "<table border=\"1\" class=\"dataframe\">\n",
       "  <thead>\n",
       "    <tr style=\"text-align: right;\">\n",
       "      <th></th>\n",
       "      <th>base_date</th>\n",
       "      <th>em_g</th>\n",
       "    </tr>\n",
       "  </thead>\n",
       "  <tbody>\n",
       "    <tr>\n",
       "      <th>0</th>\n",
       "      <td>2020-07-13</td>\n",
       "      <td>800</td>\n",
       "    </tr>\n",
       "    <tr>\n",
       "      <th>1</th>\n",
       "      <td>2020-07-14</td>\n",
       "      <td>83650</td>\n",
       "    </tr>\n",
       "    <tr>\n",
       "      <th>2</th>\n",
       "      <td>2020-07-15</td>\n",
       "      <td>92900</td>\n",
       "    </tr>\n",
       "    <tr>\n",
       "      <th>3</th>\n",
       "      <td>2020-07-16</td>\n",
       "      <td>96300</td>\n",
       "    </tr>\n",
       "    <tr>\n",
       "      <th>4</th>\n",
       "      <td>2020-07-17</td>\n",
       "      <td>49300</td>\n",
       "    </tr>\n",
       "  </tbody>\n",
       "</table>\n",
       "</div>"
      ],
      "text/plain": [
       "   base_date   em_g\n",
       "0 2020-07-13    800\n",
       "1 2020-07-14  83650\n",
       "2 2020-07-15  92900\n",
       "3 2020-07-16  96300\n",
       "4 2020-07-17  49300"
      ]
     },
     "execution_count": 7,
     "metadata": {},
     "output_type": "execute_result"
    }
   ],
   "source": [
    "un.head()"
   ]
  },
  {
   "cell_type": "code",
   "execution_count": 8,
   "id": "b8c703f1",
   "metadata": {},
   "outputs": [
    {
     "name": "stderr",
     "output_type": "stream",
     "text": [
      "INFO: nprophet.utils - set_auto_seasonalities: Disabling yearly seasonality. Run NeuralProphet with yearly_seasonality=True to override this.\n",
      "INFO: nprophet.config - set_auto_batch_epoch: Auto-set batch_size to 8\n",
      "INFO: nprophet.config - set_auto_batch_epoch: Auto-set epochs to 90\n"
     ]
    },
    {
     "data": {
      "application/vnd.jupyter.widget-view+json": {
       "model_id": "12736d5a2df7457898fcaabefe096471",
       "version_major": 2,
       "version_minor": 0
      },
      "text/plain": [
       "  0%|          | 0/100 [00:00<?, ?it/s]"
      ]
     },
     "metadata": {},
     "output_type": "display_data"
    },
    {
     "name": "stderr",
     "output_type": "stream",
     "text": [
      "INFO: nprophet - _lr_range_test: learning rate range test found optimal lr: 2.85E-01\n",
      "Epoch[90/90]: 100%|███████████████████████| 90/90 [00:11<00:00,  7.72it/s, SmoothL1Loss=0.0189, MAE=1.95e+4, RegLoss=0]\n"
     ]
    }
   ],
   "source": [
    "un.columns = [\"ds\", \"y\"]\n",
    "model = NeuralProphet(daily_seasonality=False)\n",
    "model.fit(un, freq=\"D\")\n",
    "future = model.make_future_dataframe(un, periods=62, \n",
    "                                     n_historic_predictions = len(un))\n",
    "forecast = model.predict(future)"
   ]
  },
  {
   "cell_type": "code",
   "execution_count": 9,
   "id": "f156690e",
   "metadata": {},
   "outputs": [],
   "source": [
    "sum_7 = sum(forecast.yhat1[len(un):len(un)+31])\n",
    "sum_8 = sum(forecast.yhat1[len(un)+31: ])"
   ]
  },
  {
   "cell_type": "code",
   "execution_count": 10,
   "id": "86bdf9ef",
   "metadata": {},
   "outputs": [
    {
     "data": {
      "text/plain": [
       "2050753.6640625"
      ]
     },
     "execution_count": 10,
     "metadata": {},
     "output_type": "execute_result"
    }
   ],
   "source": [
    "sum_7"
   ]
  },
  {
   "cell_type": "code",
   "execution_count": 11,
   "id": "814007cd",
   "metadata": {},
   "outputs": [
    {
     "data": {
      "text/plain": [
       "2003748.88671875"
      ]
     },
     "execution_count": 11,
     "metadata": {},
     "output_type": "execute_result"
    }
   ],
   "source": [
    "sum_8"
   ]
  },
  {
   "cell_type": "code",
   "execution_count": 12,
   "id": "8b0da50f",
   "metadata": {},
   "outputs": [],
   "source": [
    "forc = pd.DataFrame(forecast[[\"ds\",\"y\",\"yhat1\"]])\n",
    "forc = forc.fillna(0)"
   ]
  },
  {
   "cell_type": "code",
   "execution_count": 5,
   "id": "192ae940",
   "metadata": {
    "scrolled": true
   },
   "outputs": [
    {
     "name": "stdout",
     "output_type": "stream",
     "text": [
      "<class 'pandas.core.frame.DataFrame'>\n",
      "RangeIndex: 414 entries, 0 to 413\n",
      "Data columns (total 3 columns):\n",
      " #   Column  Non-Null Count  Dtype  \n",
      "---  ------  --------------  -----  \n",
      " 0   ds      414 non-null    object \n",
      " 1   y       414 non-null    int64  \n",
      " 2   yhat1   414 non-null    float64\n",
      "dtypes: float64(1), int64(1), object(1)\n",
      "memory usage: 9.8+ KB\n"
     ]
    }
   ],
   "source": [
    "forc.info()\n",
    "forc.y = forc.y.astype(\"float\")\n",
    "forc.ds = pd.to_datetime(forc.ds)\n",
    "forc.index = forc.ds"
   ]
  },
  {
   "cell_type": "code",
   "execution_count": 6,
   "id": "63c82ae3",
   "metadata": {},
   "outputs": [],
   "source": [
    "forcm = forc.resample(\"M\").sum()\n",
    "forcm['ds']= forcm.index"
   ]
  },
  {
   "cell_type": "code",
   "execution_count": 8,
   "id": "bedbf122",
   "metadata": {},
   "outputs": [
    {
     "data": {
      "text/html": [
       "<div>\n",
       "<style scoped>\n",
       "    .dataframe tbody tr th:only-of-type {\n",
       "        vertical-align: middle;\n",
       "    }\n",
       "\n",
       "    .dataframe tbody tr th {\n",
       "        vertical-align: top;\n",
       "    }\n",
       "\n",
       "    .dataframe thead th {\n",
       "        text-align: right;\n",
       "    }\n",
       "</style>\n",
       "<table border=\"1\" class=\"dataframe\">\n",
       "  <thead>\n",
       "    <tr style=\"text-align: right;\">\n",
       "      <th></th>\n",
       "      <th>y</th>\n",
       "      <th>yhat1</th>\n",
       "      <th>ds</th>\n",
       "    </tr>\n",
       "    <tr>\n",
       "      <th>ds</th>\n",
       "      <th></th>\n",
       "      <th></th>\n",
       "      <th></th>\n",
       "    </tr>\n",
       "  </thead>\n",
       "  <tbody>\n",
       "    <tr>\n",
       "      <th>2020-07-31</th>\n",
       "      <td>1,354,799.0000</td>\n",
       "      <td>1,357,908.0781</td>\n",
       "      <td>2020-07-31</td>\n",
       "    </tr>\n",
       "    <tr>\n",
       "      <th>2020-08-31</th>\n",
       "      <td>2,305,600.0000</td>\n",
       "      <td>2,190,384.2344</td>\n",
       "      <td>2020-08-31</td>\n",
       "    </tr>\n",
       "    <tr>\n",
       "      <th>2020-09-30</th>\n",
       "      <td>1,981,300.0000</td>\n",
       "      <td>2,096,804.8828</td>\n",
       "      <td>2020-09-30</td>\n",
       "    </tr>\n",
       "    <tr>\n",
       "      <th>2020-10-31</th>\n",
       "      <td>2,183,700.0000</td>\n",
       "      <td>2,075,639.0859</td>\n",
       "      <td>2020-10-31</td>\n",
       "    </tr>\n",
       "    <tr>\n",
       "      <th>2020-11-30</th>\n",
       "      <td>2,030,300.0000</td>\n",
       "      <td>2,105,088.7812</td>\n",
       "      <td>2020-11-30</td>\n",
       "    </tr>\n",
       "    <tr>\n",
       "      <th>2020-12-31</th>\n",
       "      <td>2,144,000.0000</td>\n",
       "      <td>2,156,701.4531</td>\n",
       "      <td>2020-12-31</td>\n",
       "    </tr>\n",
       "    <tr>\n",
       "      <th>2021-01-31</th>\n",
       "      <td>2,046,500.0000</td>\n",
       "      <td>2,056,427.7812</td>\n",
       "      <td>2021-01-31</td>\n",
       "    </tr>\n",
       "    <tr>\n",
       "      <th>2021-02-28</th>\n",
       "      <td>1,977,750.0000</td>\n",
       "      <td>1,894,377.1016</td>\n",
       "      <td>2021-02-28</td>\n",
       "    </tr>\n",
       "    <tr>\n",
       "      <th>2021-03-31</th>\n",
       "      <td>2,153,800.0000</td>\n",
       "      <td>2,128,566.9609</td>\n",
       "      <td>2021-03-31</td>\n",
       "    </tr>\n",
       "    <tr>\n",
       "      <th>2021-04-30</th>\n",
       "      <td>1,932,550.0000</td>\n",
       "      <td>2,046,993.7969</td>\n",
       "      <td>2021-04-30</td>\n",
       "    </tr>\n",
       "    <tr>\n",
       "      <th>2021-05-31</th>\n",
       "      <td>1,910,750.0000</td>\n",
       "      <td>2,077,430.5234</td>\n",
       "      <td>2021-05-31</td>\n",
       "    </tr>\n",
       "    <tr>\n",
       "      <th>2021-06-30</th>\n",
       "      <td>2,157,850.0000</td>\n",
       "      <td>1,993,163.2578</td>\n",
       "      <td>2021-06-30</td>\n",
       "    </tr>\n",
       "    <tr>\n",
       "      <th>2021-07-31</th>\n",
       "      <td>0.0000</td>\n",
       "      <td>2,050,753.6641</td>\n",
       "      <td>2021-07-31</td>\n",
       "    </tr>\n",
       "    <tr>\n",
       "      <th>2021-08-31</th>\n",
       "      <td>0.0000</td>\n",
       "      <td>2,003,748.8867</td>\n",
       "      <td>2021-08-31</td>\n",
       "    </tr>\n",
       "  </tbody>\n",
       "</table>\n",
       "</div>"
      ],
      "text/plain": [
       "                        y          yhat1         ds\n",
       "ds                                                 \n",
       "2020-07-31 1,354,799.0000 1,357,908.0781 2020-07-31\n",
       "2020-08-31 2,305,600.0000 2,190,384.2344 2020-08-31\n",
       "2020-09-30 1,981,300.0000 2,096,804.8828 2020-09-30\n",
       "2020-10-31 2,183,700.0000 2,075,639.0859 2020-10-31\n",
       "2020-11-30 2,030,300.0000 2,105,088.7812 2020-11-30\n",
       "2020-12-31 2,144,000.0000 2,156,701.4531 2020-12-31\n",
       "2021-01-31 2,046,500.0000 2,056,427.7812 2021-01-31\n",
       "2021-02-28 1,977,750.0000 1,894,377.1016 2021-02-28\n",
       "2021-03-31 2,153,800.0000 2,128,566.9609 2021-03-31\n",
       "2021-04-30 1,932,550.0000 2,046,993.7969 2021-04-30\n",
       "2021-05-31 1,910,750.0000 2,077,430.5234 2021-05-31\n",
       "2021-06-30 2,157,850.0000 1,993,163.2578 2021-06-30\n",
       "2021-07-31         0.0000 2,050,753.6641 2021-07-31\n",
       "2021-08-31         0.0000 2,003,748.8867 2021-08-31"
      ]
     },
     "execution_count": 8,
     "metadata": {},
     "output_type": "execute_result"
    }
   ],
   "source": [
    "forcm"
   ]
  },
  {
   "cell_type": "code",
   "execution_count": 7,
   "id": "7f236aa5",
   "metadata": {},
   "outputs": [
    {
     "data": {
      "text/plain": [
       "4.036"
      ]
     },
     "execution_count": 7,
     "metadata": {},
     "output_type": "execute_result"
    }
   ],
   "source": [
    "round(MAPE(forcm.y[:12], forcm.yhat1[:12]), 3)"
   ]
  },
  {
   "cell_type": "code",
   "execution_count": null,
   "id": "ba019caa",
   "metadata": {},
   "outputs": [],
   "source": [
    "def double_plot(dat):\n",
    "    plt.figure(figsize=(15, 5))\n",
    "    sns.lineplot(x = dat.index[:12], y = dat.y[:12], label = \"Observed\", color = \"#006699\")\n",
    "    sns.lineplot(x = dat.index[:12], y = dat.yhat1[:12], label = \"Forecast\", color = \"#ff0066\")\n",
    "    plt.title(\"unknown_pred\")\n",
    "    plt.show()"
   ]
  },
  {
   "cell_type": "code",
   "execution_count": null,
   "id": "6547d5f6",
   "metadata": {},
   "outputs": [],
   "source": [
    "double_plot(forcm)"
   ]
  }
 ],
 "metadata": {
  "kernelspec": {
   "display_name": "Python 3",
   "language": "python",
   "name": "python3"
  },
  "language_info": {
   "codemirror_mode": {
    "name": "ipython",
    "version": 3
   },
   "file_extension": ".py",
   "mimetype": "text/x-python",
   "name": "python",
   "nbconvert_exporter": "python",
   "pygments_lexer": "ipython3",
   "version": "3.7.11"
  }
 },
 "nbformat": 4,
 "nbformat_minor": 5
}

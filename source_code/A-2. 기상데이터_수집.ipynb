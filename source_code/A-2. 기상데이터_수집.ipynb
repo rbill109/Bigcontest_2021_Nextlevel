{
 "cells": [
  {
   "cell_type": "code",
   "execution_count": 1,
   "id": "4633168f-5d18-4e07-a968-f51b61dc3549",
   "metadata": {},
   "outputs": [],
   "source": [
    "import pandas as pd\n",
    "import numpy as np\n",
    "import os, random, shutil, re\n",
    "from os import listdir\n",
    "from os.path import isfile, join\n",
    "from tqdm import tqdm\n",
    "from copy import deepcopy\n",
    "\n",
    "import warnings\n",
    "warnings.filterwarnings('always')\n",
    "warnings.filterwarnings('ignore')\n",
    "\n",
    "# Visualization\n",
    "import seaborn as sns\n",
    "import matplotlib\n",
    "import matplotlib.pyplot as plt\n",
    "%matplotlib inline\n",
    "from matplotlib import font_manager, rc\n",
    "plt.rcParams['font.family'] = 'NanumGothic'\n",
    "import platform\n",
    "if platform.system() == 'Windows':\n",
    "    font_name = font_manager.FontProperties(fname=\"c:/Windows/Fonts/malgun.ttf\").get_name()\n",
    "    rc('font', family=font_name)\n",
    "else:    \n",
    "    rc('font', family='AppleGothic')\n",
    "\n",
    "matplotlib.rcParams['axes.unicode_minus'] = False"
   ]
  },
  {
   "cell_type": "code",
   "execution_count": 2,
   "id": "92889e40-1335-4ea6-8e9e-fa01ca00aca4",
   "metadata": {},
   "outputs": [],
   "source": [
    "def check_NA(df):\n",
    "    print(f\"NA check\")\n",
    "    NA_res = df.isna().sum()\n",
    "    if NA_res.sum() != 0:\n",
    "        for idx, i in enumerate(NA_res):\n",
    "            if i != 0:\n",
    "                print(df.columns[idx],i,\"->\",round(i/df.shape[0]*100,3),\"%\")\n",
    "    else:\n",
    "        print(\"...There's no NA\")\n",
    "\n",
    "def get_ls(filepath):\n",
    "    return [f for f in listdir(filepath) if isfile(join(filepath, f))]\n",
    "\n",
    "def get_res(filepath,filename):\n",
    "    df = pd.read_csv(os.path.join(filepath,filename))\n",
    "    if len(df.columns)==3:\n",
    "        df.columns = ['day','hour','value']\n",
    "    else:\n",
    "        df.columns = ['day','hour','e','value']\n",
    "        df = df[['day','hour','value']]\n",
    "    df['emd_nm'] = re.findall('.*동|.*면|.*읍', filename)[0]\n",
    "    df['type'] = filename.split(\"_\")[-3]\n",
    "    df['day'] = df['day'].apply(lambda x: x.strip()[8:] if \"Start\" in x  else x.strip())\n",
    "    df['month'] = 0\n",
    "    ls = list(filter(lambda x: len(x)>3, df['day'].unique()))\n",
    "    s = 0\n",
    "    e = df.loc[df.day==ls[0]].index[0]\n",
    "    df['month'][s:e] = 1\n",
    "\n",
    "    for idx in range(len(ls)):    \n",
    "        s = df.loc[df.day==ls[idx]].index[0]+1\n",
    "        if idx == len(ls)-1:\n",
    "            e = df.shape[0]\n",
    "        else:\n",
    "            e = df.loc[df.day==ls[idx+1]].index[0]\n",
    "        df['month'][s:e] = pd.to_datetime(ls[idx]).month\n",
    "    df['day'] = df['day'].astype('int')\n",
    "    df['year'] = pd.to_datetime(ls[idx]).year\n",
    "    df = df[['year','month', 'day','hour','emd_nm','type','value']]\n",
    "    df = df.dropna()\n",
    "    return df\n",
    "\n",
    "def get_res_for_8(filepath,filename):\n",
    "    df = pd.read_csv(os.path.join(filepath,filename))\n",
    "    if len(df.columns)==3:\n",
    "        df.columns = ['day','hour','value']\n",
    "    else:\n",
    "        df.columns = ['day','hour','e','value']\n",
    "        df = df[['day','hour','value']]\n",
    "    df['emd_nm'] = re.findall('.*동|.*면|.*읍', filename)[0]\n",
    "    df['type'] = filename.split(\"_\")[-3]\n",
    "    df['day'] = df['day'].apply(lambda x: x.strip()[8:] if \"Start\" in x  else x.strip())\n",
    "    df['month'] = 8\n",
    "    df['day'] = df['day'].astype('int')\n",
    "    df['year'] = 2021\n",
    "    df = df[['year','month', 'day','hour','emd_nm','type','value']]\n",
    "    df = df.dropna()\n",
    "    return df\n",
    "\n",
    "def get_df(filepath,files, df):\n",
    "    for filename in tqdm(files):\n",
    "        res = get_res(filepath,filename)\n",
    "        df = pd.concat([df, res], axis=0)\n",
    "    print(df.shape)\n",
    "    return df\n",
    "\n",
    "def get_df_for_8(filepath,files, df):\n",
    "    for filename in tqdm(files):\n",
    "        res = get_res_for_8(filepath,filename)\n",
    "        df = pd.concat([df, res], axis=0)\n",
    "    print(df.shape)\n",
    "    return df"
   ]
  },
  {
   "cell_type": "code",
   "execution_count": 3,
   "id": "68cc4d3d-bb09-4b3b-a743-7dd414f2712e",
   "metadata": {},
   "outputs": [],
   "source": [
    "for y in [\"18\",\"19\",\"20\",\"21\",\"2108\"]:\n",
    "    filepath = './data/기상'+y+\"/\"\n",
    "    files = \"files_\"+y\n",
    "    exec(\"%s = get_ls('%s')\" %(files, filepath))"
   ]
  },
  {
   "cell_type": "code",
   "execution_count": 4,
   "id": "d128fa25-f687-4fcb-808d-04efb563696a",
   "metadata": {},
   "outputs": [
    {
     "name": "stderr",
     "output_type": "stream",
     "text": [
      "100%|████████████████████████████████████████████████████████████████████████████████| 164/164 [00:11<00:00, 13.93it/s]"
     ]
    },
    {
     "name": "stdout",
     "output_type": "stream",
     "text": [
      "(2016216, 7)\n"
     ]
    },
    {
     "name": "stderr",
     "output_type": "stream",
     "text": [
      "\n"
     ]
    }
   ],
   "source": [
    "y =\"18\"\n",
    "df = pd.DataFrame()\n",
    "df = get_df('./data/기상'+y+\"/\",files_18, df)"
   ]
  },
  {
   "cell_type": "code",
   "execution_count": 5,
   "id": "2d60f2bb-bed7-4d0a-adfc-053ffb8b0816",
   "metadata": {},
   "outputs": [
    {
     "name": "stderr",
     "output_type": "stream",
     "text": [
      "100%|████████████████████████████████████████████████████████████████████████████████| 164/164 [00:23<00:00,  7.04it/s]"
     ]
    },
    {
     "name": "stdout",
     "output_type": "stream",
     "text": [
      "(4291224, 7)\n"
     ]
    },
    {
     "name": "stderr",
     "output_type": "stream",
     "text": [
      "\n"
     ]
    }
   ],
   "source": [
    "y =\"19\"\n",
    "df = get_df('./data/기상'+y+\"/\",files_19, df)"
   ]
  },
  {
   "cell_type": "code",
   "execution_count": 6,
   "id": "e44faf66-ddf8-4f83-8fc4-43057a63fcc6",
   "metadata": {},
   "outputs": [
    {
     "name": "stderr",
     "output_type": "stream",
     "text": [
      "100%|████████████████████████████████████████████████████████████████████████████████| 164/164 [00:36<00:00,  4.49it/s]"
     ]
    },
    {
     "name": "stdout",
     "output_type": "stream",
     "text": [
      "(7138182, 7)\n"
     ]
    },
    {
     "name": "stderr",
     "output_type": "stream",
     "text": [
      "\n"
     ]
    }
   ],
   "source": [
    "y =\"20\"\n",
    "df = get_df('./data/기상'+y+\"/\",files_20, df)"
   ]
  },
  {
   "cell_type": "code",
   "execution_count": 7,
   "id": "c9d54ff8-8676-49d8-a8f0-ef8fdba9f0db",
   "metadata": {},
   "outputs": [
    {
     "name": "stderr",
     "output_type": "stream",
     "text": [
      "100%|████████████████████████████████████████████████████████████████████████████████| 165/165 [00:46<00:00,  3.58it/s]"
     ]
    },
    {
     "name": "stdout",
     "output_type": "stream",
     "text": [
      "(8659614, 7)\n"
     ]
    },
    {
     "name": "stderr",
     "output_type": "stream",
     "text": [
      "\n"
     ]
    }
   ],
   "source": [
    "y =\"21\"\n",
    "df = get_df('./data/기상'+y+\"/\",files_21, df)"
   ]
  },
  {
   "cell_type": "code",
   "execution_count": 10,
   "id": "40f55768-05c9-47d1-846a-892821d6bab3",
   "metadata": {},
   "outputs": [
    {
     "name": "stderr",
     "output_type": "stream",
     "text": [
      "100%|████████████████████████████████████████████████████████████████████████████████| 123/123 [00:31<00:00,  3.90it/s]"
     ]
    },
    {
     "name": "stdout",
     "output_type": "stream",
     "text": [
      "(9208686, 7)\n"
     ]
    },
    {
     "name": "stderr",
     "output_type": "stream",
     "text": [
      "\n"
     ]
    }
   ],
   "source": [
    "y =\"2108\"\n",
    "df = get_df_for_8('./data/기상'+y+\"/\",files_2108, df)"
   ]
  },
  {
   "cell_type": "code",
   "execution_count": 13,
   "id": "6b84c246-32e8-4554-9c0e-65031d4e24db",
   "metadata": {},
   "outputs": [
    {
     "name": "stdout",
     "output_type": "stream",
     "text": [
      "<class 'pandas.core.frame.DataFrame'>\n",
      "Int64Index: 9208686 entries, 0 to 4493\n",
      "Data columns (total 7 columns):\n",
      " #   Column  Dtype  \n",
      "---  ------  -----  \n",
      " 0   year    int64  \n",
      " 1   month   int64  \n",
      " 2   day     int32  \n",
      " 3   hour    float64\n",
      " 4   emd_nm  object \n",
      " 5   type    object \n",
      " 6   value   float64\n",
      "dtypes: float64(2), int32(1), int64(2), object(2)\n",
      "memory usage: 526.9+ MB\n"
     ]
    }
   ],
   "source": [
    "df.info()"
   ]
  },
  {
   "cell_type": "code",
   "execution_count": 17,
   "id": "d3ade09a-fa99-4fda-8a04-de3b3f308921",
   "metadata": {},
   "outputs": [],
   "source": [
    "df = df.loc[df.type!=\"풍향\",]"
   ]
  },
  {
   "cell_type": "code",
   "execution_count": 18,
   "id": "2d6446d2-7367-40f8-98ce-af2017a3e285",
   "metadata": {},
   "outputs": [
    {
     "data": {
      "text/plain": [
       "array(['강수', '기온', '습도', '풍속'], dtype=object)"
      ]
     },
     "execution_count": 18,
     "metadata": {},
     "output_type": "execute_result"
    }
   ],
   "source": [
    "df.type.unique()"
   ]
  },
  {
   "cell_type": "code",
   "execution_count": 19,
   "id": "8c6bf93c-89c8-41d8-a538-8609b6101dea",
   "metadata": {},
   "outputs": [
    {
     "name": "stdout",
     "output_type": "stream",
     "text": [
      "NA check\n",
      "...There's no NA\n"
     ]
    }
   ],
   "source": [
    "check_NA(df)"
   ]
  },
  {
   "cell_type": "code",
   "execution_count": 20,
   "id": "5e8e101e-5f30-4d2e-b5bc-6cdf832d2833",
   "metadata": {},
   "outputs": [
    {
     "data": {
      "text/html": [
       "<div>\n",
       "<style scoped>\n",
       "    .dataframe tbody tr th:only-of-type {\n",
       "        vertical-align: middle;\n",
       "    }\n",
       "\n",
       "    .dataframe tbody tr th {\n",
       "        vertical-align: top;\n",
       "    }\n",
       "\n",
       "    .dataframe thead th {\n",
       "        text-align: right;\n",
       "    }\n",
       "</style>\n",
       "<table border=\"1\" class=\"dataframe\">\n",
       "  <thead>\n",
       "    <tr style=\"text-align: right;\">\n",
       "      <th></th>\n",
       "      <th>year</th>\n",
       "      <th>month</th>\n",
       "      <th>day</th>\n",
       "      <th>hour</th>\n",
       "      <th>emd_nm</th>\n",
       "      <th>type</th>\n",
       "      <th>value</th>\n",
       "    </tr>\n",
       "  </thead>\n",
       "  <tbody>\n",
       "    <tr>\n",
       "      <th>0</th>\n",
       "      <td>2018</td>\n",
       "      <td>1</td>\n",
       "      <td>1</td>\n",
       "      <td>0.0</td>\n",
       "      <td>건입동</td>\n",
       "      <td>강수</td>\n",
       "      <td>0.0</td>\n",
       "    </tr>\n",
       "    <tr>\n",
       "      <th>1</th>\n",
       "      <td>2018</td>\n",
       "      <td>1</td>\n",
       "      <td>1</td>\n",
       "      <td>100.0</td>\n",
       "      <td>건입동</td>\n",
       "      <td>강수</td>\n",
       "      <td>0.0</td>\n",
       "    </tr>\n",
       "    <tr>\n",
       "      <th>2</th>\n",
       "      <td>2018</td>\n",
       "      <td>1</td>\n",
       "      <td>1</td>\n",
       "      <td>200.0</td>\n",
       "      <td>건입동</td>\n",
       "      <td>강수</td>\n",
       "      <td>0.0</td>\n",
       "    </tr>\n",
       "    <tr>\n",
       "      <th>3</th>\n",
       "      <td>2018</td>\n",
       "      <td>1</td>\n",
       "      <td>1</td>\n",
       "      <td>300.0</td>\n",
       "      <td>건입동</td>\n",
       "      <td>강수</td>\n",
       "      <td>0.0</td>\n",
       "    </tr>\n",
       "    <tr>\n",
       "      <th>4</th>\n",
       "      <td>2018</td>\n",
       "      <td>1</td>\n",
       "      <td>1</td>\n",
       "      <td>400.0</td>\n",
       "      <td>건입동</td>\n",
       "      <td>강수</td>\n",
       "      <td>0.0</td>\n",
       "    </tr>\n",
       "  </tbody>\n",
       "</table>\n",
       "</div>"
      ],
      "text/plain": [
       "   year  month  day   hour emd_nm type  value\n",
       "0  2018      1    1    0.0    건입동   강수    0.0\n",
       "1  2018      1    1  100.0    건입동   강수    0.0\n",
       "2  2018      1    1  200.0    건입동   강수    0.0\n",
       "3  2018      1    1  300.0    건입동   강수    0.0\n",
       "4  2018      1    1  400.0    건입동   강수    0.0"
      ]
     },
     "execution_count": 20,
     "metadata": {},
     "output_type": "execute_result"
    }
   ],
   "source": [
    "df = pd.read_csv(os.path.join(filepath, 'weather.csv'))\n",
    "df.head()"
   ]
  },
  {
   "cell_type": "code",
   "execution_count": 21,
   "id": "cdaa625a-570f-47f7-99ee-682f61788b53",
   "metadata": {},
   "outputs": [],
   "source": [
    "df_weather = deepcopy(df)"
   ]
  },
  {
   "cell_type": "markdown",
   "id": "22da80a0-5534-4a7f-98a0-58314ef4affe",
   "metadata": {},
   "source": [
    "# 이상치 대체\n",
    "기온이 영하 50도인 경우와 강수, 습도, 풍속이 -1인 경우는 NA로 간주하고 linear interpolation으로 대체함"
   ]
  },
  {
   "cell_type": "code",
   "execution_count": 22,
   "id": "0363c1da-c5fd-43e3-800a-3acc073e2867",
   "metadata": {},
   "outputs": [],
   "source": [
    "df_weather.loc[df_weather.value<-20,'value'] = np.NaN\n",
    "df_weather.loc[(df_weather.type.isin(['강수','습도','풍속']))&(df_weather.value==-1),'value'] = np.NaN\n",
    "df_weather['value'] = df_weather['value'].interpolate(method=\"linear\")"
   ]
  },
  {
   "cell_type": "code",
   "execution_count": 23,
   "id": "4de893e7-3ddd-4d3b-8b96-710649c7bc77",
   "metadata": {},
   "outputs": [
    {
     "data": {
      "text/plain": [
       "array([], dtype=object)"
      ]
     },
     "execution_count": 23,
     "metadata": {},
     "output_type": "execute_result"
    }
   ],
   "source": [
    "df_weather.loc[df_weather.value>100,'type'].unique()"
   ]
  },
  {
   "cell_type": "code",
   "execution_count": 16,
   "id": "aee42929-d1dc-4df2-807e-0ed342ffda26",
   "metadata": {},
   "outputs": [
    {
     "data": {
      "text/html": [
       "<div>\n",
       "<style scoped>\n",
       "    .dataframe tbody tr th:only-of-type {\n",
       "        vertical-align: middle;\n",
       "    }\n",
       "\n",
       "    .dataframe tbody tr th {\n",
       "        vertical-align: top;\n",
       "    }\n",
       "\n",
       "    .dataframe thead th {\n",
       "        text-align: right;\n",
       "    }\n",
       "</style>\n",
       "<table border=\"1\" class=\"dataframe\">\n",
       "  <thead>\n",
       "    <tr style=\"text-align: right;\">\n",
       "      <th></th>\n",
       "      <th></th>\n",
       "      <th></th>\n",
       "      <th></th>\n",
       "      <th></th>\n",
       "      <th>value</th>\n",
       "    </tr>\n",
       "    <tr>\n",
       "      <th>year</th>\n",
       "      <th>month</th>\n",
       "      <th>day</th>\n",
       "      <th>emd_nm</th>\n",
       "      <th>type</th>\n",
       "      <th></th>\n",
       "    </tr>\n",
       "  </thead>\n",
       "  <tbody>\n",
       "    <tr>\n",
       "      <th rowspan=\"5\" valign=\"top\">2018</th>\n",
       "      <th rowspan=\"5\" valign=\"top\">1</th>\n",
       "      <th rowspan=\"5\" valign=\"top\">1</th>\n",
       "      <th rowspan=\"4\" valign=\"top\">건입동</th>\n",
       "      <th>강수</th>\n",
       "      <td>0.000000</td>\n",
       "    </tr>\n",
       "    <tr>\n",
       "      <th>기온</th>\n",
       "      <td>5.254167</td>\n",
       "    </tr>\n",
       "    <tr>\n",
       "      <th>습도</th>\n",
       "      <td>54.041667</td>\n",
       "    </tr>\n",
       "    <tr>\n",
       "      <th>풍속</th>\n",
       "      <td>2.404167</td>\n",
       "    </tr>\n",
       "    <tr>\n",
       "      <th>구좌읍</th>\n",
       "      <th>강수</th>\n",
       "      <td>0.000000</td>\n",
       "    </tr>\n",
       "    <tr>\n",
       "      <th>...</th>\n",
       "      <th>...</th>\n",
       "      <th>...</th>\n",
       "      <th>...</th>\n",
       "      <th>...</th>\n",
       "      <td>...</td>\n",
       "    </tr>\n",
       "    <tr>\n",
       "      <th rowspan=\"5\" valign=\"top\">2021</th>\n",
       "      <th rowspan=\"5\" valign=\"top\">8</th>\n",
       "      <th rowspan=\"5\" valign=\"top\">31</th>\n",
       "      <th rowspan=\"2\" valign=\"top\">화북동</th>\n",
       "      <th>기온</th>\n",
       "      <td>27.305556</td>\n",
       "    </tr>\n",
       "    <tr>\n",
       "      <th>습도</th>\n",
       "      <td>74.930556</td>\n",
       "    </tr>\n",
       "    <tr>\n",
       "      <th rowspan=\"3\" valign=\"top\">효돈동</th>\n",
       "      <th>강수</th>\n",
       "      <td>0.002778</td>\n",
       "    </tr>\n",
       "    <tr>\n",
       "      <th>기온</th>\n",
       "      <td>25.840278</td>\n",
       "    </tr>\n",
       "    <tr>\n",
       "      <th>습도</th>\n",
       "      <td>85.347222</td>\n",
       "    </tr>\n",
       "  </tbody>\n",
       "</table>\n",
       "<p>214758 rows × 1 columns</p>\n",
       "</div>"
      ],
      "text/plain": [
       "                                value\n",
       "year month day emd_nm type           \n",
       "2018 1     1   건입동    강수     0.000000\n",
       "                      기온     5.254167\n",
       "                      습도    54.041667\n",
       "                      풍속     2.404167\n",
       "               구좌읍    강수     0.000000\n",
       "...                               ...\n",
       "2021 8     31  화북동    기온    27.305556\n",
       "                      습도    74.930556\n",
       "               효돈동    강수     0.002778\n",
       "                      기온    25.840278\n",
       "                      습도    85.347222\n",
       "\n",
       "[214758 rows x 1 columns]"
      ]
     },
     "execution_count": 16,
     "metadata": {},
     "output_type": "execute_result"
    }
   ],
   "source": [
    "df_weather.groupby(['year','month','day','emd_nm','type']).mean()[['value']]"
   ]
  },
  {
   "cell_type": "code",
   "execution_count": 17,
   "id": "1ab82d8c-67d6-4a0f-800b-57567198bc6d",
   "metadata": {},
   "outputs": [],
   "source": [
    "df_weather['month'] = df_weather['month'].apply(lambda x: \"{:0>2d}\".format(x))\n",
    "df_weather['day'] = df_weather['day'].apply(lambda x: \"{:0>2d}\".format(x))"
   ]
  },
  {
   "cell_type": "code",
   "execution_count": 18,
   "id": "54ff3784-5b75-4d81-acd4-c5a9c55674d4",
   "metadata": {},
   "outputs": [],
   "source": [
    "df_weather['year'] = df_weather['year'].astype(\"str\")\n",
    "df_weather['month'] = df_weather['month'].astype(\"str\")\n",
    "df_weather['day'] = df_weather['day'].astype(\"str\")"
   ]
  },
  {
   "cell_type": "code",
   "execution_count": 19,
   "id": "661ce2de-484f-4f38-8185-32ed88cab910",
   "metadata": {},
   "outputs": [],
   "source": [
    "df_weather['base_date'] = df_weather[['year','month','day']].apply(lambda x: '-'.join(x), axis=1)"
   ]
  },
  {
   "cell_type": "code",
   "execution_count": 20,
   "id": "7a645655-ffad-4376-b41f-88e9a5bd1f50",
   "metadata": {},
   "outputs": [
    {
     "data": {
      "text/html": [
       "<div>\n",
       "<style scoped>\n",
       "    .dataframe tbody tr th:only-of-type {\n",
       "        vertical-align: middle;\n",
       "    }\n",
       "\n",
       "    .dataframe tbody tr th {\n",
       "        vertical-align: top;\n",
       "    }\n",
       "\n",
       "    .dataframe thead th {\n",
       "        text-align: right;\n",
       "    }\n",
       "</style>\n",
       "<table border=\"1\" class=\"dataframe\">\n",
       "  <thead>\n",
       "    <tr style=\"text-align: right;\">\n",
       "      <th></th>\n",
       "      <th>base_date</th>\n",
       "      <th>emd_nm</th>\n",
       "      <th>type</th>\n",
       "      <th>value</th>\n",
       "    </tr>\n",
       "  </thead>\n",
       "  <tbody>\n",
       "    <tr>\n",
       "      <th>0</th>\n",
       "      <td>2018-01-01</td>\n",
       "      <td>건입동</td>\n",
       "      <td>강수</td>\n",
       "      <td>0.0</td>\n",
       "    </tr>\n",
       "    <tr>\n",
       "      <th>1</th>\n",
       "      <td>2018-01-01</td>\n",
       "      <td>건입동</td>\n",
       "      <td>강수</td>\n",
       "      <td>0.0</td>\n",
       "    </tr>\n",
       "    <tr>\n",
       "      <th>2</th>\n",
       "      <td>2018-01-01</td>\n",
       "      <td>건입동</td>\n",
       "      <td>강수</td>\n",
       "      <td>0.0</td>\n",
       "    </tr>\n",
       "    <tr>\n",
       "      <th>3</th>\n",
       "      <td>2018-01-01</td>\n",
       "      <td>건입동</td>\n",
       "      <td>강수</td>\n",
       "      <td>0.0</td>\n",
       "    </tr>\n",
       "    <tr>\n",
       "      <th>4</th>\n",
       "      <td>2018-01-01</td>\n",
       "      <td>건입동</td>\n",
       "      <td>강수</td>\n",
       "      <td>0.0</td>\n",
       "    </tr>\n",
       "    <tr>\n",
       "      <th>...</th>\n",
       "      <td>...</td>\n",
       "      <td>...</td>\n",
       "      <td>...</td>\n",
       "      <td>...</td>\n",
       "    </tr>\n",
       "    <tr>\n",
       "      <th>9203593</th>\n",
       "      <td>2021-08-31</td>\n",
       "      <td>효돈동</td>\n",
       "      <td>습도</td>\n",
       "      <td>85.0</td>\n",
       "    </tr>\n",
       "    <tr>\n",
       "      <th>9203594</th>\n",
       "      <td>2021-08-31</td>\n",
       "      <td>효돈동</td>\n",
       "      <td>습도</td>\n",
       "      <td>85.0</td>\n",
       "    </tr>\n",
       "    <tr>\n",
       "      <th>9203595</th>\n",
       "      <td>2021-08-31</td>\n",
       "      <td>효돈동</td>\n",
       "      <td>습도</td>\n",
       "      <td>85.0</td>\n",
       "    </tr>\n",
       "    <tr>\n",
       "      <th>9203596</th>\n",
       "      <td>2021-08-31</td>\n",
       "      <td>효돈동</td>\n",
       "      <td>습도</td>\n",
       "      <td>85.0</td>\n",
       "    </tr>\n",
       "    <tr>\n",
       "      <th>9203597</th>\n",
       "      <td>2021-08-31</td>\n",
       "      <td>효돈동</td>\n",
       "      <td>습도</td>\n",
       "      <td>85.0</td>\n",
       "    </tr>\n",
       "  </tbody>\n",
       "</table>\n",
       "<p>9203598 rows × 4 columns</p>\n",
       "</div>"
      ],
      "text/plain": [
       "          base_date emd_nm type  value\n",
       "0        2018-01-01    건입동   강수    0.0\n",
       "1        2018-01-01    건입동   강수    0.0\n",
       "2        2018-01-01    건입동   강수    0.0\n",
       "3        2018-01-01    건입동   강수    0.0\n",
       "4        2018-01-01    건입동   강수    0.0\n",
       "...             ...    ...  ...    ...\n",
       "9203593  2021-08-31    효돈동   습도   85.0\n",
       "9203594  2021-08-31    효돈동   습도   85.0\n",
       "9203595  2021-08-31    효돈동   습도   85.0\n",
       "9203596  2021-08-31    효돈동   습도   85.0\n",
       "9203597  2021-08-31    효돈동   습도   85.0\n",
       "\n",
       "[9203598 rows x 4 columns]"
      ]
     },
     "execution_count": 20,
     "metadata": {},
     "output_type": "execute_result"
    }
   ],
   "source": [
    "df_weather_ = df_weather[['base_date','emd_nm','type','value']]\n",
    "df_weather_ "
   ]
  },
  {
   "cell_type": "code",
   "execution_count": 21,
   "id": "66bd56c8-5bd9-47cb-a127-964d18cf7eb2",
   "metadata": {},
   "outputs": [],
   "source": [
    "weather = df_weather_.pivot_table(index=['base_date','emd_nm'],columns=\"type\",values=\"value\")"
   ]
  },
  {
   "cell_type": "code",
   "execution_count": 23,
   "id": "ab3eb3b2-9201-42fd-936d-3b4410e7e5ec",
   "metadata": {},
   "outputs": [],
   "source": [
    "weather.reset_index().to_csv(os.path.join(filepath, 'weather_preprocessed.csv'), index=False)"
   ]
  },
  {
   "cell_type": "code",
   "execution_count": 24,
   "id": "d760b0e7-db74-456e-8cef-48d5a1116333",
   "metadata": {},
   "outputs": [
    {
     "data": {
      "text/html": [
       "<div>\n",
       "<style scoped>\n",
       "    .dataframe tbody tr th:only-of-type {\n",
       "        vertical-align: middle;\n",
       "    }\n",
       "\n",
       "    .dataframe tbody tr th {\n",
       "        vertical-align: top;\n",
       "    }\n",
       "\n",
       "    .dataframe thead th {\n",
       "        text-align: right;\n",
       "    }\n",
       "</style>\n",
       "<table border=\"1\" class=\"dataframe\">\n",
       "  <thead>\n",
       "    <tr style=\"text-align: right;\">\n",
       "      <th></th>\n",
       "      <th>base_date</th>\n",
       "      <th>emd_nm</th>\n",
       "      <th>강수</th>\n",
       "      <th>기온</th>\n",
       "      <th>습도</th>\n",
       "      <th>풍속</th>\n",
       "    </tr>\n",
       "  </thead>\n",
       "  <tbody>\n",
       "    <tr>\n",
       "      <th>0</th>\n",
       "      <td>2018-01-01</td>\n",
       "      <td>건입동</td>\n",
       "      <td>0.000000</td>\n",
       "      <td>5.254167</td>\n",
       "      <td>54.041667</td>\n",
       "      <td>2.404167</td>\n",
       "    </tr>\n",
       "    <tr>\n",
       "      <th>1</th>\n",
       "      <td>2018-01-01</td>\n",
       "      <td>구좌읍</td>\n",
       "      <td>0.000000</td>\n",
       "      <td>4.575000</td>\n",
       "      <td>63.333333</td>\n",
       "      <td>4.688889</td>\n",
       "    </tr>\n",
       "    <tr>\n",
       "      <th>2</th>\n",
       "      <td>2018-01-01</td>\n",
       "      <td>남원읍</td>\n",
       "      <td>0.000000</td>\n",
       "      <td>7.212500</td>\n",
       "      <td>51.375000</td>\n",
       "      <td>3.481944</td>\n",
       "    </tr>\n",
       "    <tr>\n",
       "      <th>3</th>\n",
       "      <td>2018-01-01</td>\n",
       "      <td>노형동</td>\n",
       "      <td>0.000000</td>\n",
       "      <td>5.379167</td>\n",
       "      <td>54.083333</td>\n",
       "      <td>3.181944</td>\n",
       "    </tr>\n",
       "    <tr>\n",
       "      <th>4</th>\n",
       "      <td>2018-01-01</td>\n",
       "      <td>대륜동</td>\n",
       "      <td>0.000000</td>\n",
       "      <td>8.287500</td>\n",
       "      <td>53.625000</td>\n",
       "      <td>2.404167</td>\n",
       "    </tr>\n",
       "    <tr>\n",
       "      <th>...</th>\n",
       "      <td>...</td>\n",
       "      <td>...</td>\n",
       "      <td>...</td>\n",
       "      <td>...</td>\n",
       "      <td>...</td>\n",
       "      <td>...</td>\n",
       "    </tr>\n",
       "    <tr>\n",
       "      <th>54853</th>\n",
       "      <td>2021-08-31</td>\n",
       "      <td>표선면</td>\n",
       "      <td>0.000000</td>\n",
       "      <td>27.243056</td>\n",
       "      <td>82.916667</td>\n",
       "      <td>NaN</td>\n",
       "    </tr>\n",
       "    <tr>\n",
       "      <th>54854</th>\n",
       "      <td>2021-08-31</td>\n",
       "      <td>한경면</td>\n",
       "      <td>0.000000</td>\n",
       "      <td>27.326389</td>\n",
       "      <td>92.361111</td>\n",
       "      <td>NaN</td>\n",
       "    </tr>\n",
       "    <tr>\n",
       "      <th>54855</th>\n",
       "      <td>2021-08-31</td>\n",
       "      <td>한림읍</td>\n",
       "      <td>0.001389</td>\n",
       "      <td>27.319444</td>\n",
       "      <td>91.076389</td>\n",
       "      <td>NaN</td>\n",
       "    </tr>\n",
       "    <tr>\n",
       "      <th>54856</th>\n",
       "      <td>2021-08-31</td>\n",
       "      <td>화북동</td>\n",
       "      <td>0.002778</td>\n",
       "      <td>27.305556</td>\n",
       "      <td>74.930556</td>\n",
       "      <td>NaN</td>\n",
       "    </tr>\n",
       "    <tr>\n",
       "      <th>54857</th>\n",
       "      <td>2021-08-31</td>\n",
       "      <td>효돈동</td>\n",
       "      <td>0.002778</td>\n",
       "      <td>25.840278</td>\n",
       "      <td>85.347222</td>\n",
       "      <td>NaN</td>\n",
       "    </tr>\n",
       "  </tbody>\n",
       "</table>\n",
       "<p>54858 rows × 6 columns</p>\n",
       "</div>"
      ],
      "text/plain": [
       "        base_date emd_nm        강수         기온         습도        풍속\n",
       "0      2018-01-01    건입동  0.000000   5.254167  54.041667  2.404167\n",
       "1      2018-01-01    구좌읍  0.000000   4.575000  63.333333  4.688889\n",
       "2      2018-01-01    남원읍  0.000000   7.212500  51.375000  3.481944\n",
       "3      2018-01-01    노형동  0.000000   5.379167  54.083333  3.181944\n",
       "4      2018-01-01    대륜동  0.000000   8.287500  53.625000  2.404167\n",
       "...           ...    ...       ...        ...        ...       ...\n",
       "54853  2021-08-31    표선면  0.000000  27.243056  82.916667       NaN\n",
       "54854  2021-08-31    한경면  0.000000  27.326389  92.361111       NaN\n",
       "54855  2021-08-31    한림읍  0.001389  27.319444  91.076389       NaN\n",
       "54856  2021-08-31    화북동  0.002778  27.305556  74.930556       NaN\n",
       "54857  2021-08-31    효돈동  0.002778  25.840278  85.347222       NaN\n",
       "\n",
       "[54858 rows x 6 columns]"
      ]
     },
     "execution_count": 24,
     "metadata": {},
     "output_type": "execute_result"
    }
   ],
   "source": [
    "weather_ = pd.read_csv(os.path.join(filepath, 'weather_preprocessed.csv'))\n",
    "weather_"
   ]
  },
  {
   "cell_type": "markdown",
   "id": "06475718-d1a0-40c5-8a89-831e4e10c195",
   "metadata": {},
   "source": [
    "# +) 누락된 풍속 데이터 추가 \n",
    "2021.09.12.수정"
   ]
  },
  {
   "cell_type": "code",
   "execution_count": 79,
   "id": "67665d34-73b1-421f-a562-eab6f50fcce5",
   "metadata": {},
   "outputs": [
    {
     "data": {
      "text/plain": [
       "array(['2018-09-14', '2018-09-15', '2018-09-16', '2018-09-17',\n",
       "       '2018-09-18', '2018-09-19', '2018-09-20', '2018-09-21',\n",
       "       '2018-09-22', '2018-09-23', '2018-09-24', '2018-09-25',\n",
       "       '2018-09-26', '2018-09-27', '2018-09-28', '2018-09-29',\n",
       "       '2018-09-30', '2018-11-01', '2018-11-02', '2018-11-03',\n",
       "       '2018-11-04', '2018-11-05', '2018-11-06', '2018-11-07',\n",
       "       '2018-11-08', '2018-11-09', '2018-11-10', '2018-11-11',\n",
       "       '2018-11-12', '2018-11-13', '2018-11-14', '2018-11-15',\n",
       "       '2018-11-16', '2018-11-17', '2018-11-18', '2018-11-19',\n",
       "       '2018-11-20', '2018-11-21', '2018-11-22', '2018-11-23',\n",
       "       '2018-11-24', '2018-11-25', '2018-11-26', '2018-11-27',\n",
       "       '2018-11-28', '2018-11-29', '2018-11-30', '2020-08-26',\n",
       "       '2020-08-27', '2020-08-28', '2020-08-29', '2020-08-30',\n",
       "       '2020-08-31', '2021-07-01', '2021-07-02', '2021-07-03',\n",
       "       '2021-07-04', '2021-07-05', '2021-07-06', '2021-07-07',\n",
       "       '2021-07-08', '2021-07-09', '2021-07-10', '2021-07-11',\n",
       "       '2021-07-12', '2021-07-13', '2021-07-14', '2021-07-15',\n",
       "       '2021-07-16', '2021-07-17', '2021-07-18', '2021-07-19',\n",
       "       '2021-07-20', '2021-07-21', '2021-07-22', '2021-07-23',\n",
       "       '2021-07-24', '2021-07-25', '2021-07-26', '2021-07-27',\n",
       "       '2021-07-28', '2021-07-29', '2021-07-30', '2021-07-31',\n",
       "       '2021-08-02', '2021-08-03', '2021-08-04', '2021-08-05',\n",
       "       '2021-08-06', '2021-08-07', '2021-08-08', '2021-08-09',\n",
       "       '2021-08-10', '2021-08-11', '2021-08-12', '2021-08-13',\n",
       "       '2021-08-14', '2021-08-15', '2021-08-16', '2021-08-17',\n",
       "       '2021-08-18', '2021-08-19', '2021-08-20', '2021-08-21',\n",
       "       '2021-08-22', '2021-08-23', '2021-08-24', '2021-08-25',\n",
       "       '2021-08-26', '2021-08-27', '2021-08-28', '2021-08-29',\n",
       "       '2021-08-30', '2021-08-31'], dtype=object)"
      ]
     },
     "execution_count": 79,
     "metadata": {},
     "output_type": "execute_result"
    }
   ],
   "source": [
    "weather_.loc[weather_.풍속.isna(),\"base_date\"].unique()"
   ]
  },
  {
   "cell_type": "code",
   "execution_count": 24,
   "id": "2bbc1a3c-b8b0-4061-a97b-b16d24e84dbe",
   "metadata": {},
   "outputs": [],
   "source": [
    "def get_ls(filepath):\n",
    "    return [f for f in listdir(filepath) if isfile(join(filepath, f))]\n",
    "\n",
    "def get_res2(filepath,filename,year,month):\n",
    "    df = pd.read_csv(os.path.join(filepath,filename))\n",
    "    if len(df.columns)==3:\n",
    "        df.columns = ['day','hour','value']\n",
    "    else:\n",
    "        df.columns = ['day','hour','e','value']\n",
    "        df = df[['day','hour','value']]\n",
    "    df['emd_nm'] = re.findall('.*동|.*면|.*읍', filename)[0]\n",
    "    df['type'] = filename.split(\"_\")[-3]\n",
    "    df['month'] = month\n",
    "    df['day'] = df['day'].astype('int')\n",
    "    df['year'] = year\n",
    "    df = df[['year','month', 'day','hour','emd_nm','type','value']]\n",
    "    df = df.dropna()\n",
    "    return df\n",
    "\n",
    "def get_df2(filepath,files, df,year,month):\n",
    "    for filename in tqdm(files):\n",
    "        res = get_res2(filepath,filename,year,month)\n",
    "        df = pd.concat([df, res], axis=0)\n",
    "    print(df.shape)\n",
    "    return df"
   ]
  },
  {
   "cell_type": "code",
   "execution_count": 70,
   "id": "08bdcd62-b373-4e0f-a5e3-a35271f128c0",
   "metadata": {},
   "outputs": [],
   "source": [
    "for y in [\"풍속2008추가\",\"풍속1811\",\"풍속201809\",\"풍속21\"]:\n",
    "    filepath = './data/기상'+y+\"/\"\n",
    "    files = \"files_\"+y\n",
    "    exec(\"%s = get_ls('%s')\" %(files, filepath))"
   ]
  },
  {
   "cell_type": "code",
   "execution_count": 43,
   "id": "5f27678e-1316-4b52-8f2e-da8b0a52669d",
   "metadata": {},
   "outputs": [
    {
     "name": "stderr",
     "output_type": "stream",
     "text": [
      "100%|██████████████████████████████████████████████████████████████████████████████████| 43/43 [00:00<00:00, 61.98it/s]"
     ]
    },
    {
     "name": "stdout",
     "output_type": "stream",
     "text": [
      "(197284, 7)\n"
     ]
    },
    {
     "name": "stderr",
     "output_type": "stream",
     "text": [
      "\n"
     ]
    }
   ],
   "source": [
    "y =\"풍속2008추가\"\n",
    "df = pd.DataFrame()\n",
    "df = get_df2('./data/기상'+y+\"/\",files_풍속2008추가, df, 2020, 8)"
   ]
  },
  {
   "cell_type": "code",
   "execution_count": 44,
   "id": "1507f11c-1384-4797-bd1c-f62b472ad64d",
   "metadata": {},
   "outputs": [
    {
     "name": "stderr",
     "output_type": "stream",
     "text": [
      "100%|██████████████████████████████████████████████████████████████████████████████████| 43/43 [00:00<00:00, 47.04it/s]"
     ]
    },
    {
     "name": "stdout",
     "output_type": "stream",
     "text": [
      "(388204, 7)\n"
     ]
    },
    {
     "name": "stderr",
     "output_type": "stream",
     "text": [
      "\n"
     ]
    }
   ],
   "source": [
    "y =\"풍속1811\"\n",
    "df = get_df2('./data/기상'+y+\"/\",files_풍속1811, df, 2018, 11)"
   ]
  },
  {
   "cell_type": "code",
   "execution_count": 45,
   "id": "d2ab5640-d694-46bf-94cc-394256961fe4",
   "metadata": {},
   "outputs": [
    {
     "name": "stderr",
     "output_type": "stream",
     "text": [
      "100%|██████████████████████████████████████████████████████████████████████████████████| 43/43 [00:01<00:00, 34.74it/s]"
     ]
    },
    {
     "name": "stdout",
     "output_type": "stream",
     "text": [
      "(579124, 7)\n"
     ]
    },
    {
     "name": "stderr",
     "output_type": "stream",
     "text": [
      "\n"
     ]
    }
   ],
   "source": [
    "y =\"풍속201809\"\n",
    "df = get_df2('./data/기상'+y+\"/\",files_풍속201809, df, 2018, 9)"
   ]
  },
  {
   "cell_type": "code",
   "execution_count": 30,
   "id": "44430946-f7a8-49f7-a33c-27631425b7ba",
   "metadata": {},
   "outputs": [
    {
     "data": {
      "text/html": [
       "<div>\n",
       "<style scoped>\n",
       "    .dataframe tbody tr th:only-of-type {\n",
       "        vertical-align: middle;\n",
       "    }\n",
       "\n",
       "    .dataframe tbody tr th {\n",
       "        vertical-align: top;\n",
       "    }\n",
       "\n",
       "    .dataframe thead th {\n",
       "        text-align: right;\n",
       "    }\n",
       "</style>\n",
       "<table border=\"1\" class=\"dataframe\">\n",
       "  <thead>\n",
       "    <tr style=\"text-align: right;\">\n",
       "      <th></th>\n",
       "      <th>year</th>\n",
       "      <th>month</th>\n",
       "      <th>day</th>\n",
       "      <th>hour</th>\n",
       "      <th>emd_nm</th>\n",
       "      <th>type</th>\n",
       "      <th>value</th>\n",
       "    </tr>\n",
       "  </thead>\n",
       "  <tbody>\n",
       "    <tr>\n",
       "      <th>0</th>\n",
       "      <td>2018</td>\n",
       "      <td>1</td>\n",
       "      <td>1</td>\n",
       "      <td>0.0</td>\n",
       "      <td>건입동</td>\n",
       "      <td>강수</td>\n",
       "      <td>0.0</td>\n",
       "    </tr>\n",
       "    <tr>\n",
       "      <th>1</th>\n",
       "      <td>2018</td>\n",
       "      <td>1</td>\n",
       "      <td>1</td>\n",
       "      <td>100.0</td>\n",
       "      <td>건입동</td>\n",
       "      <td>강수</td>\n",
       "      <td>0.0</td>\n",
       "    </tr>\n",
       "    <tr>\n",
       "      <th>2</th>\n",
       "      <td>2018</td>\n",
       "      <td>1</td>\n",
       "      <td>1</td>\n",
       "      <td>200.0</td>\n",
       "      <td>건입동</td>\n",
       "      <td>강수</td>\n",
       "      <td>0.0</td>\n",
       "    </tr>\n",
       "    <tr>\n",
       "      <th>3</th>\n",
       "      <td>2018</td>\n",
       "      <td>1</td>\n",
       "      <td>1</td>\n",
       "      <td>300.0</td>\n",
       "      <td>건입동</td>\n",
       "      <td>강수</td>\n",
       "      <td>0.0</td>\n",
       "    </tr>\n",
       "    <tr>\n",
       "      <th>4</th>\n",
       "      <td>2018</td>\n",
       "      <td>1</td>\n",
       "      <td>1</td>\n",
       "      <td>400.0</td>\n",
       "      <td>건입동</td>\n",
       "      <td>강수</td>\n",
       "      <td>0.0</td>\n",
       "    </tr>\n",
       "  </tbody>\n",
       "</table>\n",
       "</div>"
      ],
      "text/plain": [
       "   year  month  day   hour emd_nm type  value\n",
       "0  2018      1    1    0.0    건입동   강수    0.0\n",
       "1  2018      1    1  100.0    건입동   강수    0.0\n",
       "2  2018      1    1  200.0    건입동   강수    0.0\n",
       "3  2018      1    1  300.0    건입동   강수    0.0\n",
       "4  2018      1    1  400.0    건입동   강수    0.0"
      ]
     },
     "execution_count": 30,
     "metadata": {},
     "output_type": "execute_result"
    }
   ],
   "source": [
    "df_ori = pd.read_csv('./data/weather.csv')\n",
    "df_ori.head()"
   ]
  },
  {
   "cell_type": "code",
   "execution_count": 73,
   "id": "401e68bb-27f4-4701-b1c0-b4762a84a510",
   "metadata": {},
   "outputs": [
    {
     "data": {
      "text/html": [
       "<div>\n",
       "<style scoped>\n",
       "    .dataframe tbody tr th:only-of-type {\n",
       "        vertical-align: middle;\n",
       "    }\n",
       "\n",
       "    .dataframe tbody tr th {\n",
       "        vertical-align: top;\n",
       "    }\n",
       "\n",
       "    .dataframe thead th {\n",
       "        text-align: right;\n",
       "    }\n",
       "</style>\n",
       "<table border=\"1\" class=\"dataframe\">\n",
       "  <thead>\n",
       "    <tr style=\"text-align: right;\">\n",
       "      <th></th>\n",
       "      <th>year</th>\n",
       "      <th>month</th>\n",
       "      <th>day</th>\n",
       "      <th>hour</th>\n",
       "      <th>emd_nm</th>\n",
       "      <th>type</th>\n",
       "      <th>value</th>\n",
       "    </tr>\n",
       "  </thead>\n",
       "  <tbody>\n",
       "    <tr>\n",
       "      <th>8658990</th>\n",
       "      <td>2021</td>\n",
       "      <td>8</td>\n",
       "      <td>1</td>\n",
       "      <td>30.0</td>\n",
       "      <td>건입동</td>\n",
       "      <td>기온</td>\n",
       "      <td>28.0</td>\n",
       "    </tr>\n",
       "    <tr>\n",
       "      <th>8658991</th>\n",
       "      <td>2021</td>\n",
       "      <td>8</td>\n",
       "      <td>1</td>\n",
       "      <td>30.0</td>\n",
       "      <td>건입동</td>\n",
       "      <td>기온</td>\n",
       "      <td>29.0</td>\n",
       "    </tr>\n",
       "    <tr>\n",
       "      <th>8658992</th>\n",
       "      <td>2021</td>\n",
       "      <td>8</td>\n",
       "      <td>1</td>\n",
       "      <td>30.0</td>\n",
       "      <td>건입동</td>\n",
       "      <td>기온</td>\n",
       "      <td>29.0</td>\n",
       "    </tr>\n",
       "    <tr>\n",
       "      <th>8658993</th>\n",
       "      <td>2021</td>\n",
       "      <td>8</td>\n",
       "      <td>1</td>\n",
       "      <td>30.0</td>\n",
       "      <td>건입동</td>\n",
       "      <td>기온</td>\n",
       "      <td>31.0</td>\n",
       "    </tr>\n",
       "    <tr>\n",
       "      <th>8658994</th>\n",
       "      <td>2021</td>\n",
       "      <td>8</td>\n",
       "      <td>1</td>\n",
       "      <td>30.0</td>\n",
       "      <td>건입동</td>\n",
       "      <td>기온</td>\n",
       "      <td>31.0</td>\n",
       "    </tr>\n",
       "    <tr>\n",
       "      <th>...</th>\n",
       "      <td>...</td>\n",
       "      <td>...</td>\n",
       "      <td>...</td>\n",
       "      <td>...</td>\n",
       "      <td>...</td>\n",
       "      <td>...</td>\n",
       "      <td>...</td>\n",
       "    </tr>\n",
       "    <tr>\n",
       "      <th>9199129</th>\n",
       "      <td>2021</td>\n",
       "      <td>8</td>\n",
       "      <td>31</td>\n",
       "      <td>2330.0</td>\n",
       "      <td>효돈동</td>\n",
       "      <td>기온</td>\n",
       "      <td>26.0</td>\n",
       "    </tr>\n",
       "    <tr>\n",
       "      <th>9199130</th>\n",
       "      <td>2021</td>\n",
       "      <td>8</td>\n",
       "      <td>31</td>\n",
       "      <td>2330.0</td>\n",
       "      <td>효돈동</td>\n",
       "      <td>기온</td>\n",
       "      <td>26.0</td>\n",
       "    </tr>\n",
       "    <tr>\n",
       "      <th>9199131</th>\n",
       "      <td>2021</td>\n",
       "      <td>8</td>\n",
       "      <td>31</td>\n",
       "      <td>2330.0</td>\n",
       "      <td>효돈동</td>\n",
       "      <td>기온</td>\n",
       "      <td>27.0</td>\n",
       "    </tr>\n",
       "    <tr>\n",
       "      <th>9199132</th>\n",
       "      <td>2021</td>\n",
       "      <td>8</td>\n",
       "      <td>31</td>\n",
       "      <td>2330.0</td>\n",
       "      <td>효돈동</td>\n",
       "      <td>기온</td>\n",
       "      <td>28.0</td>\n",
       "    </tr>\n",
       "    <tr>\n",
       "      <th>9199133</th>\n",
       "      <td>2021</td>\n",
       "      <td>8</td>\n",
       "      <td>31</td>\n",
       "      <td>2330.0</td>\n",
       "      <td>효돈동</td>\n",
       "      <td>기온</td>\n",
       "      <td>28.0</td>\n",
       "    </tr>\n",
       "  </tbody>\n",
       "</table>\n",
       "<p>183024 rows × 7 columns</p>\n",
       "</div>"
      ],
      "text/plain": [
       "         year  month  day    hour emd_nm type  value\n",
       "8658990  2021      8    1    30.0    건입동   기온   28.0\n",
       "8658991  2021      8    1    30.0    건입동   기온   29.0\n",
       "8658992  2021      8    1    30.0    건입동   기온   29.0\n",
       "8658993  2021      8    1    30.0    건입동   기온   31.0\n",
       "8658994  2021      8    1    30.0    건입동   기온   31.0\n",
       "...       ...    ...  ...     ...    ...  ...    ...\n",
       "9199129  2021      8   31  2330.0    효돈동   기온   26.0\n",
       "9199130  2021      8   31  2330.0    효돈동   기온   26.0\n",
       "9199131  2021      8   31  2330.0    효돈동   기온   27.0\n",
       "9199132  2021      8   31  2330.0    효돈동   기온   28.0\n",
       "9199133  2021      8   31  2330.0    효돈동   기온   28.0\n",
       "\n",
       "[183024 rows x 7 columns]"
      ]
     },
     "execution_count": 73,
     "metadata": {},
     "output_type": "execute_result"
    }
   ],
   "source": [
    "df_ori.loc[(df_ori.year==2021)&(df_ori.month==8)&(df_ori.type==\"기온\")]"
   ]
  },
  {
   "cell_type": "code",
   "execution_count": 32,
   "id": "fe49c462-e3c2-4a64-8e99-7b150b2446c0",
   "metadata": {},
   "outputs": [],
   "source": [
    "df = pd.concat([df_ori, df], axis=0)"
   ]
  },
  {
   "cell_type": "code",
   "execution_count": 33,
   "id": "e2b6d714-8bfc-42c9-90ba-a29355654f8b",
   "metadata": {},
   "outputs": [],
   "source": [
    "df_weather = deepcopy(df)"
   ]
  },
  {
   "cell_type": "code",
   "execution_count": 34,
   "id": "c032eb57-5a0a-4b9a-9524-1ca16913ab90",
   "metadata": {},
   "outputs": [],
   "source": [
    "df_weather['month'] = df_weather['month'].apply(lambda x: \"{:0>2d}\".format(x))\n",
    "df_weather['day'] = df_weather['day'].apply(lambda x: \"{:0>2d}\".format(x))"
   ]
  },
  {
   "cell_type": "code",
   "execution_count": 35,
   "id": "284cecc7-aebc-44ed-b11b-d8ebefd246cb",
   "metadata": {},
   "outputs": [],
   "source": [
    "df_weather['year'] = df_weather['year'].astype(\"str\")\n",
    "df_weather['month'] = df_weather['month'].astype(\"str\")\n",
    "df_weather['day'] = df_weather['day'].astype(\"str\")"
   ]
  },
  {
   "cell_type": "code",
   "execution_count": 36,
   "id": "5c3e435f-91f9-4be1-a81c-fd1903c78e38",
   "metadata": {},
   "outputs": [],
   "source": [
    "df_weather['base_date'] = df_weather[['year','month','day']].apply(lambda x: '-'.join(x), axis=1)"
   ]
  },
  {
   "cell_type": "code",
   "execution_count": 37,
   "id": "fedce57e-e0e8-44ed-a89c-4a0d103b134f",
   "metadata": {},
   "outputs": [
    {
     "data": {
      "text/html": [
       "<div>\n",
       "<style scoped>\n",
       "    .dataframe tbody tr th:only-of-type {\n",
       "        vertical-align: middle;\n",
       "    }\n",
       "\n",
       "    .dataframe tbody tr th {\n",
       "        vertical-align: top;\n",
       "    }\n",
       "\n",
       "    .dataframe thead th {\n",
       "        text-align: right;\n",
       "    }\n",
       "</style>\n",
       "<table border=\"1\" class=\"dataframe\">\n",
       "  <thead>\n",
       "    <tr style=\"text-align: right;\">\n",
       "      <th></th>\n",
       "      <th>base_date</th>\n",
       "      <th>emd_nm</th>\n",
       "      <th>type</th>\n",
       "      <th>value</th>\n",
       "    </tr>\n",
       "  </thead>\n",
       "  <tbody>\n",
       "    <tr>\n",
       "      <th>0</th>\n",
       "      <td>2018-01-01</td>\n",
       "      <td>건입동</td>\n",
       "      <td>강수</td>\n",
       "      <td>0.0</td>\n",
       "    </tr>\n",
       "    <tr>\n",
       "      <th>1</th>\n",
       "      <td>2018-01-01</td>\n",
       "      <td>건입동</td>\n",
       "      <td>강수</td>\n",
       "      <td>0.0</td>\n",
       "    </tr>\n",
       "    <tr>\n",
       "      <th>2</th>\n",
       "      <td>2018-01-01</td>\n",
       "      <td>건입동</td>\n",
       "      <td>강수</td>\n",
       "      <td>0.0</td>\n",
       "    </tr>\n",
       "    <tr>\n",
       "      <th>3</th>\n",
       "      <td>2018-01-01</td>\n",
       "      <td>건입동</td>\n",
       "      <td>강수</td>\n",
       "      <td>0.0</td>\n",
       "    </tr>\n",
       "    <tr>\n",
       "      <th>4</th>\n",
       "      <td>2018-01-01</td>\n",
       "      <td>건입동</td>\n",
       "      <td>강수</td>\n",
       "      <td>0.0</td>\n",
       "    </tr>\n",
       "    <tr>\n",
       "      <th>...</th>\n",
       "      <td>...</td>\n",
       "      <td>...</td>\n",
       "      <td>...</td>\n",
       "      <td>...</td>\n",
       "    </tr>\n",
       "    <tr>\n",
       "      <th>8984</th>\n",
       "      <td>2021-08-31</td>\n",
       "      <td>효돈동</td>\n",
       "      <td>풍속</td>\n",
       "      <td>5.0</td>\n",
       "    </tr>\n",
       "    <tr>\n",
       "      <th>8985</th>\n",
       "      <td>2021-08-31</td>\n",
       "      <td>효돈동</td>\n",
       "      <td>풍속</td>\n",
       "      <td>5.0</td>\n",
       "    </tr>\n",
       "    <tr>\n",
       "      <th>8986</th>\n",
       "      <td>2021-08-31</td>\n",
       "      <td>효돈동</td>\n",
       "      <td>풍속</td>\n",
       "      <td>6.0</td>\n",
       "    </tr>\n",
       "    <tr>\n",
       "      <th>8987</th>\n",
       "      <td>2021-08-31</td>\n",
       "      <td>효돈동</td>\n",
       "      <td>풍속</td>\n",
       "      <td>6.0</td>\n",
       "    </tr>\n",
       "    <tr>\n",
       "      <th>8988</th>\n",
       "      <td>2021-08-31</td>\n",
       "      <td>효돈동</td>\n",
       "      <td>풍속</td>\n",
       "      <td>6.0</td>\n",
       "    </tr>\n",
       "  </tbody>\n",
       "</table>\n",
       "<p>10166626 rows × 4 columns</p>\n",
       "</div>"
      ],
      "text/plain": [
       "       base_date emd_nm type  value\n",
       "0     2018-01-01    건입동   강수    0.0\n",
       "1     2018-01-01    건입동   강수    0.0\n",
       "2     2018-01-01    건입동   강수    0.0\n",
       "3     2018-01-01    건입동   강수    0.0\n",
       "4     2018-01-01    건입동   강수    0.0\n",
       "...          ...    ...  ...    ...\n",
       "8984  2021-08-31    효돈동   풍속    5.0\n",
       "8985  2021-08-31    효돈동   풍속    5.0\n",
       "8986  2021-08-31    효돈동   풍속    6.0\n",
       "8987  2021-08-31    효돈동   풍속    6.0\n",
       "8988  2021-08-31    효돈동   풍속    6.0\n",
       "\n",
       "[10166626 rows x 4 columns]"
      ]
     },
     "execution_count": 37,
     "metadata": {},
     "output_type": "execute_result"
    }
   ],
   "source": [
    "df_weather_ = df_weather[['base_date','emd_nm','type','value']]\n",
    "df_weather_ "
   ]
  },
  {
   "cell_type": "code",
   "execution_count": 86,
   "id": "5f6d7244-33e0-4fb4-9c06-738835a16bb4",
   "metadata": {},
   "outputs": [],
   "source": [
    "weather = df_weather_.pivot_table(index=['base_date','emd_nm'],columns=\"type\",values=\"value\").reset_index()"
   ]
  },
  {
   "cell_type": "code",
   "execution_count": 87,
   "id": "d2c4d066-42a1-46f9-b9d7-fa052e241ff3",
   "metadata": {},
   "outputs": [],
   "source": [
    "weather = weather.loc[~weather.emd_nm.isin([\"우도면\",\"추자면\"]),]"
   ]
  },
  {
   "cell_type": "code",
   "execution_count": 88,
   "id": "4bf7735c-8ec7-41d5-adbd-af8e4ca23c64",
   "metadata": {},
   "outputs": [
    {
     "name": "stdout",
     "output_type": "stream",
     "text": [
      "NA check\n",
      "풍속 41 -> 0.075 %\n"
     ]
    }
   ],
   "source": [
    "check_NA(weather)"
   ]
  },
  {
   "cell_type": "code",
   "execution_count": 89,
   "id": "329bd668-dffa-41a1-867e-6e652ef48a70",
   "metadata": {},
   "outputs": [],
   "source": [
    "na_ls = []\n",
    "for files in files_풍속21:\n",
    "    tmp = pd.read_csv('./data/기상풍속21'+\"/\"+files)\n",
    "    na_ls.append(np.mean(tmp.iloc[:144,3:4]).values[0])\n",
    "weather.loc[weather.풍속.isna(),'풍속'] = na_ls"
   ]
  },
  {
   "cell_type": "code",
   "execution_count": 90,
   "id": "ed5ec979-b636-4fd3-a2e8-f1a27360f3ef",
   "metadata": {},
   "outputs": [
    {
     "name": "stdout",
     "output_type": "stream",
     "text": [
      "NA check\n",
      "...There's no NA\n"
     ]
    }
   ],
   "source": [
    "check_NA(weather)"
   ]
  },
  {
   "cell_type": "code",
   "execution_count": 91,
   "id": "47ca14f7-dba1-4cc6-9fd2-6a24a9c95c1e",
   "metadata": {},
   "outputs": [],
   "source": [
    "weather.to_csv(os.path.join(filepath, 'weather_preprocessed.csv'),index=False)\n",
    "weather_final = pd.read_csv(os.path.join(filepath, 'weather_preprocessed.csv'))"
   ]
  },
  {
   "cell_type": "code",
   "execution_count": 92,
   "id": "84c52574-f22a-4fc6-bf85-1e74a861f039",
   "metadata": {},
   "outputs": [
    {
     "data": {
      "text/html": [
       "<div>\n",
       "<style scoped>\n",
       "    .dataframe tbody tr th:only-of-type {\n",
       "        vertical-align: middle;\n",
       "    }\n",
       "\n",
       "    .dataframe tbody tr th {\n",
       "        vertical-align: top;\n",
       "    }\n",
       "\n",
       "    .dataframe thead th {\n",
       "        text-align: right;\n",
       "    }\n",
       "</style>\n",
       "<table border=\"1\" class=\"dataframe\">\n",
       "  <thead>\n",
       "    <tr style=\"text-align: right;\">\n",
       "      <th></th>\n",
       "      <th>base_date</th>\n",
       "      <th>emd_nm</th>\n",
       "      <th>강수</th>\n",
       "      <th>기온</th>\n",
       "      <th>습도</th>\n",
       "      <th>풍속</th>\n",
       "    </tr>\n",
       "  </thead>\n",
       "  <tbody>\n",
       "    <tr>\n",
       "      <th>0</th>\n",
       "      <td>2018-01-01</td>\n",
       "      <td>건입동</td>\n",
       "      <td>0.000000</td>\n",
       "      <td>5.254167</td>\n",
       "      <td>54.041667</td>\n",
       "      <td>2.404167</td>\n",
       "    </tr>\n",
       "    <tr>\n",
       "      <th>1</th>\n",
       "      <td>2018-01-01</td>\n",
       "      <td>구좌읍</td>\n",
       "      <td>0.000000</td>\n",
       "      <td>4.575000</td>\n",
       "      <td>63.333333</td>\n",
       "      <td>4.688889</td>\n",
       "    </tr>\n",
       "    <tr>\n",
       "      <th>2</th>\n",
       "      <td>2018-01-01</td>\n",
       "      <td>남원읍</td>\n",
       "      <td>0.000000</td>\n",
       "      <td>7.212500</td>\n",
       "      <td>51.375000</td>\n",
       "      <td>3.481944</td>\n",
       "    </tr>\n",
       "    <tr>\n",
       "      <th>3</th>\n",
       "      <td>2018-01-01</td>\n",
       "      <td>노형동</td>\n",
       "      <td>0.000000</td>\n",
       "      <td>5.379167</td>\n",
       "      <td>54.083333</td>\n",
       "      <td>3.181944</td>\n",
       "    </tr>\n",
       "    <tr>\n",
       "      <th>4</th>\n",
       "      <td>2018-01-01</td>\n",
       "      <td>대륜동</td>\n",
       "      <td>0.000000</td>\n",
       "      <td>8.287500</td>\n",
       "      <td>53.625000</td>\n",
       "      <td>2.404167</td>\n",
       "    </tr>\n",
       "    <tr>\n",
       "      <th>...</th>\n",
       "      <td>...</td>\n",
       "      <td>...</td>\n",
       "      <td>...</td>\n",
       "      <td>...</td>\n",
       "      <td>...</td>\n",
       "      <td>...</td>\n",
       "    </tr>\n",
       "    <tr>\n",
       "      <th>54894</th>\n",
       "      <td>2021-08-31</td>\n",
       "      <td>표선면</td>\n",
       "      <td>0.000000</td>\n",
       "      <td>27.243056</td>\n",
       "      <td>82.916667</td>\n",
       "      <td>4.555556</td>\n",
       "    </tr>\n",
       "    <tr>\n",
       "      <th>54895</th>\n",
       "      <td>2021-08-31</td>\n",
       "      <td>한경면</td>\n",
       "      <td>0.000000</td>\n",
       "      <td>27.326389</td>\n",
       "      <td>92.361111</td>\n",
       "      <td>5.131944</td>\n",
       "    </tr>\n",
       "    <tr>\n",
       "      <th>54896</th>\n",
       "      <td>2021-08-31</td>\n",
       "      <td>한림읍</td>\n",
       "      <td>0.001389</td>\n",
       "      <td>27.319444</td>\n",
       "      <td>91.076389</td>\n",
       "      <td>3.937500</td>\n",
       "    </tr>\n",
       "    <tr>\n",
       "      <th>54897</th>\n",
       "      <td>2021-08-31</td>\n",
       "      <td>화북동</td>\n",
       "      <td>0.002778</td>\n",
       "      <td>27.305556</td>\n",
       "      <td>74.930556</td>\n",
       "      <td>2.430556</td>\n",
       "    </tr>\n",
       "    <tr>\n",
       "      <th>54898</th>\n",
       "      <td>2021-08-31</td>\n",
       "      <td>효돈동</td>\n",
       "      <td>0.002778</td>\n",
       "      <td>25.840278</td>\n",
       "      <td>85.347222</td>\n",
       "      <td>3.729167</td>\n",
       "    </tr>\n",
       "  </tbody>\n",
       "</table>\n",
       "<p>54899 rows × 6 columns</p>\n",
       "</div>"
      ],
      "text/plain": [
       "        base_date emd_nm        강수         기온         습도        풍속\n",
       "0      2018-01-01    건입동  0.000000   5.254167  54.041667  2.404167\n",
       "1      2018-01-01    구좌읍  0.000000   4.575000  63.333333  4.688889\n",
       "2      2018-01-01    남원읍  0.000000   7.212500  51.375000  3.481944\n",
       "3      2018-01-01    노형동  0.000000   5.379167  54.083333  3.181944\n",
       "4      2018-01-01    대륜동  0.000000   8.287500  53.625000  2.404167\n",
       "...           ...    ...       ...        ...        ...       ...\n",
       "54894  2021-08-31    표선면  0.000000  27.243056  82.916667  4.555556\n",
       "54895  2021-08-31    한경면  0.000000  27.326389  92.361111  5.131944\n",
       "54896  2021-08-31    한림읍  0.001389  27.319444  91.076389  3.937500\n",
       "54897  2021-08-31    화북동  0.002778  27.305556  74.930556  2.430556\n",
       "54898  2021-08-31    효돈동  0.002778  25.840278  85.347222  3.729167\n",
       "\n",
       "[54899 rows x 6 columns]"
      ]
     },
     "execution_count": 92,
     "metadata": {},
     "output_type": "execute_result"
    }
   ],
   "source": [
    "weather_final"
   ]
  },
  {
   "cell_type": "code",
   "execution_count": null,
   "id": "f26088d3-e151-464c-9c12-d9cfb3726f93",
   "metadata": {},
   "outputs": [],
   "source": []
  }
 ],
 "metadata": {
  "kernelspec": {
   "display_name": "Python 3",
   "language": "python",
   "name": "python3"
  },
  "language_info": {
   "codemirror_mode": {
    "name": "ipython",
    "version": 3
   },
   "file_extension": ".py",
   "mimetype": "text/x-python",
   "name": "python",
   "nbconvert_exporter": "python",
   "pygments_lexer": "ipython3",
   "version": "3.7.11"
  }
 },
 "nbformat": 4,
 "nbformat_minor": 5
}

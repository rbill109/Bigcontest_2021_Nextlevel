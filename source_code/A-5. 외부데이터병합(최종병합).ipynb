{
 "cells": [
  {
   "cell_type": "code",
   "execution_count": 11,
   "id": "63d8f5a7-1902-41c5-802c-700afbd4561a",
   "metadata": {},
   "outputs": [],
   "source": [
    "import pandas as pd\n",
    "pd.options.display.float_format = '{:,.4f}'.format\n",
    "pd.options.display.max_rows = 100\n",
    "pd.options.display.max_columns = 40\n",
    "import os\n",
    "\n",
    "# Warnings\n",
    "import warnings\n",
    "warnings.filterwarnings('always')\n",
    "warnings.filterwarnings('ignore')"
   ]
  },
  {
   "cell_type": "code",
   "execution_count": 4,
   "id": "7c01124a-7134-4112-8410-6accbb05c95d",
   "metadata": {},
   "outputs": [],
   "source": [
    "def check_NA(df):\n",
    "    print(f\"NA check\")\n",
    "    NA_res = df.isna().sum()\n",
    "    if NA_res.sum() != 0:\n",
    "        for idx, i in enumerate(NA_res):\n",
    "            if i != 0:\n",
    "                print(df.columns[idx],i,\"->\",round(i/df.shape[0]*100,3),\"%\")\n",
    "    else:\n",
    "        print(\"...There's no NA\")"
   ]
  },
  {
   "cell_type": "code",
   "execution_count": 5,
   "id": "79581973-b4c7-4002-913f-b2b890b27517",
   "metadata": {},
   "outputs": [],
   "source": [
    "fielapath = \"./data\"\n",
    "dd = read_file(os.path.join(filepath,\"final_merged_by_day.,csv\"))\n",
    "dd_7_8 read_file(os.path.join(filepath,\"merged_by_day_7_8.csv\"))"
   ]
  },
  {
   "cell_type": "markdown",
   "id": "e7420a3d-9001-43ee-bd21-0d2e54ed19c3",
   "metadata": {},
   "source": [
    "# 태풍 데이터 \n",
    "## 수집과 함께 기존 데이터에 병합 A-4. 참고"
   ]
  },
  {
   "cell_type": "markdown",
   "id": "7b9442c0-c265-45d4-820e-a2373cc4850a",
   "metadata": {},
   "source": [
    "# 기상 데이터 \n",
    "## 기존 데이터에 병합"
   ]
  },
  {
   "cell_type": "code",
   "execution_count": null,
   "id": "6aff78fa-1025-4233-b455-8ab9260b7796",
   "metadata": {},
   "outputs": [],
   "source": [
    "weather_final = pd.read_csv(os.path.join(filepath, 'weather_preprocessed.csv'))"
   ]
  },
  {
   "cell_type": "code",
   "execution_count": 125,
   "id": "a45900a3-cb1f-4527-83d9-ff64788f6af7",
   "metadata": {},
   "outputs": [],
   "source": [
    "dd = dd.drop(['강수','기온', '습도','풍속'], axis=1)\n",
    "dd_78 = dd_78.drop(['강수','기온', '습도','풍속'], axis=1)\n",
    "dd = pd.merge(dd, weather_final, on=['base_date','emd_nm'], how=\"left\")\n",
    "dd_78 = pd.merge(dd_78, weather_final, on=['base_date','emd_nm'], how=\"left\")"
   ]
  },
  {
   "cell_type": "markdown",
   "id": "db4ee2b4-53b9-4df2-b87f-f88e0718ee7d",
   "metadata": {},
   "source": [
    "# 검색량 데이터\n",
    "## 기존 데이터에 병합"
   ]
  },
  {
   "cell_type": "code",
   "execution_count": 8,
   "id": "bab8e4df-0551-4674-8d86-f09e58d0cb0b",
   "metadata": {},
   "outputs": [],
   "source": [
    "dd = dd.drop(['읍면동별검색_관광',\n",
    "       '검색_제주도', '검색_코로나', '검색_코로나백신', '검색_코로나동선', '검색_코로나지원금', '검색_날씨',\n",
    "       '검색_폭우', '검색_태풍', '검색_비', '검색_보건소', '검색_약국', '읍면동별검색_날씨', '읍면동별검색_태풍'], axis=1)\n",
    "\n",
    "dd_78 = dd_78.drop(['읍면동별검색_관광',\n",
    "       '검색_제주도', '검색_코로나', '검색_코로나백신', '검색_코로나동선', '검색_코로나지원금', '검색_날씨',\n",
    "       '검색_폭우', '검색_태풍', '검색_비', '검색_보건소', '검색_약국', '읍면동별검색_날씨', '읍면동별검색_태풍'], axis=1)"
   ]
  },
  {
   "cell_type": "code",
   "execution_count": 9,
   "id": "461e9d01-c4f2-43e7-b3a4-1571fdce35ed",
   "metadata": {},
   "outputs": [
    {
     "name": "stdout",
     "output_type": "stream",
     "text": [
      "(49609, 74) (2542, 35)\n"
     ]
    }
   ],
   "source": [
    "filepath = \"./data/search\"\n",
    "\n",
    "# 제주 전체 키워드 병합\n",
    "df_tmp = pd.read_csv(os.path.join(filepath, '검색.csv'))\n",
    "df_tmp['검색_관광'] = df_tmp['검색_관광']+df_tmp['검색_관광2']\n",
    "df_tmp['검색_쓰레기'] = df_tmp['검색_쓰레기']+df_tmp['검색_쓰레기2']\n",
    "df_tmp = df_tmp.drop(['검색_관광2','검색_쓰레기2'],axis=1)\n",
    "df_tmp['검색_관광'] = df_tmp['검색_관광']/np.max(df_tmp['검색_관광'])*100\n",
    "df_tmp['검색_쓰레기'] = df_tmp['검색_쓰레기']/np.max(df_tmp['검색_쓰레기'])*100\n",
    "\n",
    "# 병합\n",
    "dd = pd.merge(dd, df_tmp, on=['base_date'], how=\"left\")\n",
    "dd_78 = pd.merge(dd_78, df_tmp, on=['base_date'], how=\"left\")\n",
    "print(dd.shape, dd_78.shape)"
   ]
  },
  {
   "cell_type": "code",
   "execution_count": 10,
   "id": "7deb1df0-5b6b-41d9-856f-7a6c62d09c16",
   "metadata": {},
   "outputs": [
    {
     "name": "stdout",
     "output_type": "stream",
     "text": [
      "(49609, 75) (2542, 36)\n",
      "(49609, 76) (2542, 37)\n",
      "(49609, 77) (2542, 38)\n"
     ]
    }
   ],
   "source": [
    "# 읍면동별 키워드 검색 결과\n",
    "for col in 읍면동별_dic.keys():\n",
    "    df = pd.read_csv(os.path.join(filepath, col+\".csv\"))\n",
    "    df_tmp = pd.melt(df, id_vars=\"base_date\")\n",
    "    df_tmp.columns = ['base_date','emd_nm',col]\n",
    "    \n",
    "    # 병합\n",
    "    dd = pd.merge(dd, df_tmp, on=['base_date','emd_nm'], how=\"left\")\n",
    "    dd_78 = pd.merge(dd_78, df_tmp, on=['base_date','emd_nm'], how=\"left\")\n",
    "    print(dd.shape, dd_78.shape)"
   ]
  },
  {
   "cell_type": "markdown",
   "id": "da41c17e-2baa-4d94-b864-307309e3edb2",
   "metadata": {},
   "source": [
    "# 미세먼지 데이터"
   ]
  },
  {
   "cell_type": "code",
   "execution_count": 97,
   "id": "54e85db0-7f8f-4ed8-88e5-ec5c967e6d34",
   "metadata": {},
   "outputs": [],
   "source": [
    "mm = pd.read_csv(os.path.join(filepath, \"미세먼지.csv\"))\n",
    "df =  pd.read_csv(os.path.join(filepath, \"final_merged_by_day_ver3.csv\"))"
   ]
  },
  {
   "cell_type": "code",
   "execution_count": 98,
   "id": "0f211fea-dc59-4cef-833f-4de1f8798e8f",
   "metadata": {},
   "outputs": [],
   "source": [
    "mm.base_date = pd.to_datetime(mm.base_date)\n",
    "df.base_date = pd.to_datetime(df.base_date)"
   ]
  },
  {
   "cell_type": "code",
   "execution_count": 100,
   "id": "eb7d391e-9f43-4461-a030-54579beea659",
   "metadata": {},
   "outputs": [],
   "source": [
    "region_ = {'남원읍': ['남원읍', '동홍동', '성산읍'], \n",
    "           '대륜동': ['동홍동'], '대정읍': ['한경면', '대정읍'], \n",
    "           '대천동': ['동홍동'], '동홍동': ['동홍동'], '서홍동': ['동홍동'], '성산읍': ['성산읍'], \n",
    "           '송산동': ['동홍동'], '안덕면':['한경면'], '영천동': ['동홍동'], '예래동': ['동홍동'], \n",
    "           '정방동': ['동홍동'], '중문동': ['동홍동'],  '중앙동': ['동홍동'],  '천지동':['동홍동'], \n",
    "           '표선면': ['성산읍'], '효돈동':['동홍동'], '건입동':['이도동','연동'], '노형동':['노형동','연동'], \n",
    "           '도두동':['연동'],  '봉개동':['조천읍','연동'],  '삼도1동':['연동'], '삼도2동':['연동'], '삼양동':['이도동','연동'], \n",
    "           '아라동':['연동'],   '애월읍':['한림읍','연동'],  \n",
    "           '연동':['연동'],  '오라동':['연동'], \n",
    "           '외도동':['연동'],  '용담1동':['연동'], \n",
    "           '용담2동':['연동'],            '이도1동': ['이도동','연동'],  \n",
    "           '이도2동': ['이도동','연동'],            '이호동':['연동'], \n",
    "           '일도1동': ['연동'],            '일도2동': ['연동'], \n",
    "           '화북동': ['연동'],           '조천읍':['조천읍', '성산읍'], \n",
    "           '구좌읍':['조천읍', '성산읍'],           '한림읍':['한림읍','한경면'],            '한경면':['한경면']\n",
    "          }"
   ]
  },
  {
   "cell_type": "code",
   "execution_count": 93,
   "id": "1c66f047-644b-4dd7-a6fc-3fdfe4446b4f",
   "metadata": {},
   "outputs": [],
   "source": [
    "df[\"미세먼지\"]=np.nan"
   ]
  },
  {
   "cell_type": "code",
   "execution_count": 101,
   "id": "8b2bd61e-ae0a-4094-a539-aa17f0754302",
   "metadata": {},
   "outputs": [],
   "source": [
    "for i in df.base_date.unique():\n",
    "    for key in region_.keys():\n",
    "        tmp = mm[mm.base_date == i]\n",
    "        for j in range(0, len(region_[key])): \n",
    "            tp = tmp.loc[tmp.emd_nm==region_[key][j]]\n",
    "            if len(tp)>0: break\n",
    "        if len(tp)==0: break\n",
    "        df.loc[(df.base_date==i)&(df.emd_nm==key), \"미세먼지\"]= tp.미세먼지.values[0]"
   ]
  },
  {
   "cell_type": "code",
   "execution_count": 106,
   "id": "deb88828-aa5e-4d6e-9c3a-13ce5478d757",
   "metadata": {},
   "outputs": [],
   "source": [
    "# df[df.미세먼지.isna()] # 20년 2월 29일"
   ]
  },
  {
   "cell_type": "code",
   "execution_count": 107,
   "id": "168f096d-4818-4eff-a87d-c6b6a8fe25ea",
   "metadata": {},
   "outputs": [],
   "source": [
    "df= df.fillna(method='ffill')"
   ]
  },
  {
   "cell_type": "code",
   "execution_count": 111,
   "id": "6972bd9a-1dde-4dcd-8bc2-fa99b2c30e9b",
   "metadata": {},
   "outputs": [],
   "source": [
    "M_train = df[[\"emd_nm\", \"city\",\"base_date\", \"미세먼지\"]]"
   ]
  },
  {
   "cell_type": "code",
   "execution_count": 112,
   "id": "d9f0f447-3a32-4b2f-a8b0-facdea0e0815",
   "metadata": {},
   "outputs": [],
   "source": [
    "M_train.to_csv(os.path.join(\"미세먼지&emdnm&basedate.csv\"), index=False)"
   ]
  },
  {
   "cell_type": "code",
   "execution_count": 113,
   "id": "04574d8b-6ffd-456b-9aae-d607dcc5a87a",
   "metadata": {},
   "outputs": [],
   "source": [
    "df_78 =  pd.read_csv(os.path.join(\"final_merged_by_day_7_8_ver3.csv\"))"
   ]
  },
  {
   "cell_type": "code",
   "execution_count": 114,
   "id": "185e4d9e-e58f-4fb3-8863-32bef6afc586",
   "metadata": {},
   "outputs": [],
   "source": [
    "df_78[\"미세먼지\"]=np.nan"
   ]
  },
  {
   "cell_type": "code",
   "execution_count": 115,
   "id": "bb6df9c3-6a0a-4652-a42b-e2c1ddd85070",
   "metadata": {},
   "outputs": [],
   "source": [
    "for i in df_78.base_date.unique():\n",
    "    for key in region_.keys():\n",
    "        tmp = mm[mm.base_date == i]\n",
    "        for j in range(0, len(region_[key])): \n",
    "            tp = tmp.loc[tmp.emd_nm==region_[key][j]]\n",
    "            if len(tp)>0: break\n",
    "        if len(tp)==0: break\n",
    "        df_78.loc[(df_78.base_date==i)&(df_78.emd_nm==key), \"미세먼지\"]= tp.미세먼지.values[0]"
   ]
  },
  {
   "cell_type": "code",
   "execution_count": 118,
   "id": "d0162b68-c7f2-4b4c-a1dc-7b986c6dbd69",
   "metadata": {},
   "outputs": [],
   "source": [
    "M_test = df_78[[\"emd_nm\", \"base_date\", \"미세먼지\"]]"
   ]
  },
  {
   "cell_type": "code",
   "execution_count": 119,
   "id": "c25b5828-9695-4bc5-a858-a3c90d28ec79",
   "metadata": {},
   "outputs": [],
   "source": [
    "M_test.to_csv(os.path.join(\"78_미세먼지&emd_nm&base_date.csv\"), index=False)"
   ]
  },
  {
   "cell_type": "markdown",
   "id": "f15287fe-9b08-4ce3-9c8f-7af045fe274e",
   "metadata": {},
   "source": [
    "## 기존 데이터에 병합"
   ]
  },
  {
   "cell_type": "code",
   "execution_count": 128,
   "id": "f9ac6ec2-e9fe-4ff7-8f03-e633678317d6",
   "metadata": {},
   "outputs": [],
   "source": [
    "md = pd.read_csv(os.path.join(filepath,'미세먼지.csv'))\n",
    "md_78 = pd.read_csv(os.path.join(filepath,'78_미세먼지.csv'))\n",
    "del md['city']"
   ]
  },
  {
   "cell_type": "code",
   "execution_count": 129,
   "id": "077fa2dc-c320-4f7f-9581-6a931e1d6c80",
   "metadata": {},
   "outputs": [],
   "source": [
    "dd = pd.merge(dd, md, on=['base_date','emd_nm'], how=\"left\")\n",
    "dd_78 = pd.merge(dd_78, md_78, on=['base_date','emd_nm'], how=\"left\")"
   ]
  },
  {
   "cell_type": "markdown",
   "id": "b5723d1f-c541-4626-8bb5-60d4ea70b94d",
   "metadata": {
    "tags": []
   },
   "source": [
    "# 입도객 데이터\n",
    "## 기존 데이터에 병합"
   ]
  },
  {
   "cell_type": "code",
   "execution_count": 1,
   "id": "41e0a894-038c-423e-9d80-2ced90bf5ed8",
   "metadata": {},
   "outputs": [],
   "source": [
    "# 세대수 merge\n",
    "fam = pd.read_csv(os.path.join('세대수_및_세대당인구.csv'))\n",
    "df = pd.merge(df, fam, on = ['year','month','emd_nm'],how = 'left')\n",
    "\n",
    "\n",
    "# 면적 merge\n",
    "area = pd.read_excel(os.path.join(\"house_pop_2019.xlsx\"))\n",
    "area = area.iloc[:,[1,16]]\n",
    "area = area.rename(columns ={\"읍면동\":\"emd_nm\",\"면적(km²)\":\"area\"})\n",
    "df = pd.merge(df,area, on = \"emd_nm\", how = \"left\")\n",
    "df[\"popdens\"] = df[\"total_resid_pop\"]/df[\"area\"]\n",
    "\n",
    "dd = pd.merge(dd, df, on=['base_date','emd_nm'], how=\"left\")\n",
    "dd_78 = pd.merge(dd_78, df, on=['base_date','emd_nm'], how=\"left\")"
   ]
  },
  {
   "cell_type": "markdown",
   "id": "31145e5c-165f-4003-9420-b765d5617c9a",
   "metadata": {},
   "source": [
    "# 연령별 거주인구 데이터\n",
    "## 기존 데이터에 병합"
   ]
  },
  {
   "cell_type": "code",
   "execution_count": 24,
   "id": "218a6781-f642-4941-bfd7-e32f7cd7ed4f",
   "metadata": {},
   "outputs": [],
   "source": [
    "jj= read_file(os.path.join(filepath,\"제주도_월별_연령별 인구.csv\"))\n",
    "df1= read_file(os.path.join(filepath,\"merged_by_day_new.csv\"))\n",
    "df2= read_file(os.path.join(filepath,\"merged_by_7_8_v2.csv\"))"
   ]
  },
  {
   "cell_type": "code",
   "execution_count": 25,
   "id": "2590e501-8aab-47d8-bdb8-2c5aec2dc6d7",
   "metadata": {},
   "outputs": [],
   "source": [
    "df1.index = pd.to_datetime(df1.base_date)\n",
    "df1[\"year_month\"]= df1.index.to_period(\"M\")\n",
    "df1[\"year_month\"] = df1.year_month.astype('str')\n",
    "df1= df1.reset_index(drop=True)\n",
    "df1 = df1.drop([\"year\", \"month\"], axis=1)"
   ]
  },
  {
   "cell_type": "code",
   "execution_count": 26,
   "id": "10ea86f8-4413-4516-b4a4-dfd2e5747ae6",
   "metadata": {
    "scrolled": true
   },
   "outputs": [
    {
     "name": "stdout",
     "output_type": "stream",
     "text": [
      "set()\n",
      "set()\n"
     ]
    }
   ],
   "source": [
    "print(set(df1.emd_nm.unique())-set(jj.emd_nm.unique()))\n",
    "print(set(jj.emd_nm.unique())-set(df1.emd_nm.unique()))"
   ]
  },
  {
   "cell_type": "code",
   "execution_count": 27,
   "id": "fa997611-0118-4574-8c73-263345ce0e00",
   "metadata": {},
   "outputs": [
    {
     "data": {
      "text/plain": [
       "Index(['연령0020', '연령2030', '연령3040', '연령4060', '연령60이상', 'emd_nm',\n",
       "       'year_month'],\n",
       "      dtype='object')"
      ]
     },
     "execution_count": 27,
     "metadata": {},
     "output_type": "execute_result"
    }
   ],
   "source": [
    "jj.columns"
   ]
  },
  {
   "cell_type": "code",
   "execution_count": 28,
   "id": "fedc83ca-fceb-4b7e-9d59-91d5efa0599d",
   "metadata": {},
   "outputs": [],
   "source": [
    "df_m= pd.merge(df1, jj, on=[\"year_month\", \"emd_nm\"], how = 'left')\n",
    "df_m= df_m[[\"base_date\", \"emd_nm\", '연령0020', '연령2030', '연령3040', '연령4060', '연령60이상']]"
   ]
  },
  {
   "cell_type": "code",
   "execution_count": 29,
   "id": "5f95ebb7-964b-4949-8002-4fa0fa8b09f8",
   "metadata": {},
   "outputs": [],
   "source": [
    "df2.index = pd.to_datetime(df2.base_date)\n",
    "df2[\"year_month\"]= df2.index.to_period(\"M\")\n",
    "df2[\"year_month\"] = df2.year_month.astype('str')\n",
    "df2= df2.reset_index(drop=True)"
   ]
  },
  {
   "cell_type": "code",
   "execution_count": 30,
   "id": "3e2f7cdf-46ee-449e-853f-8586d2964a40",
   "metadata": {},
   "outputs": [],
   "source": [
    "df_78= pd.merge(df2, jj, on=[\"year_month\", \"emd_nm\"], how = 'left')\n",
    "df_78= df_78[[\"base_date\", \"emd_nm\", '연령0020', '연령2030', '연령3040', '연령4060', '연령60이상']]"
   ]
  },
  {
   "cell_type": "code",
   "execution_count": 16,
   "id": "b37255b8-3fd7-4900-80c8-ade9b18a5523",
   "metadata": {},
   "outputs": [],
   "source": [
    "df_m.to_csv(\"제주도_연령대별인구.csv\")\n",
    "df_78.to_csv(\"제주도_연령대별인구_78.csv\")"
   ]
  },
  {
   "cell_type": "markdown",
   "id": "cefa6f1f-7943-4417-89fe-7966d9c22d51",
   "metadata": {
    "tags": []
   },
   "source": [
    "# 미세먼지 데이터 기존 데이터에 병합"
   ]
  },
  {
   "cell_type": "code",
   "execution_count": 18,
   "id": "1d1c7adb-4e0f-4269-b5ed-2063802403ce",
   "metadata": {},
   "outputs": [],
   "source": [
    "base_col = ['base_date', 'emd_nm', 'pay_amt', 'em_g', 'em_cnt','city','cluster']\n",
    "\n",
    "time_col = ['holidays']\n",
    "\n",
    "pop_col = ['korean_resd_pop', 'foreign_resd_pop', 'total_resd_pop','foreign_resd_ratio',\n",
    "           'fam', 'pop_per_fam', 'popdens']\n",
    "        \n",
    "pop_col_korean = ['resd_pop_cnt', 'work_pop_jeju', 'work_pop_etc', 'visit_pop_jeju','visit_pop_etc','vpc_daytm_rt']\n",
    "\n",
    "pop_col_foreign = ['visit_short','CHN_short', 'JPN_short', 'USA_short', 'CHN_ratio_short','NotCHN_short', \n",
    "                   'resd_jeju','country_1_all_jeju','country_2_resd_jeju', 'country_2_visit_jeju', 'country_3_resd_jeju',\n",
    "                   'country_4_resd_jeju', 'country_7_all_jeju', 'country_3_all_etc']\n",
    "\n",
    "weather_col = ['강수','기온','습도','풍속','태풍','미세먼지']\n",
    "\n",
    "card_col = ['all_cnt','유형1_cnt', '유형1_amt',  '유형2_cnt', '유형2_amt',  '유형3_cnt',\n",
    "            '유형3_amt', '농축수산물_cnt', '농축수산물_amt','배달_cnt', '배달_amt', \n",
    "            '배달_ratio','유형1_ratio','유형2_ratio','유형3_ratio', '농축수산물_ratio']\n",
    "\n",
    "search_col = ['검색_관광', '검색_쇼핑', '검색_쓰레기', '검색_한파', '검색_강풍', '검색_태풍', '검색_장마', '검색_폭염',\n",
    "               '검색_우박', '검색_날씨', '검색_미세먼지', '검색_황사', '읍면동별검색_생활', '읍면동별검색_관광',\n",
    "               '읍면동별검색_쇼핑']\n",
    "\n",
    "entrance_col = ['총계_월', '내국인전체_월', '외국인_월']\n",
    "\n",
    "age = ['연령0020', '연령2030', '연령2040_rt','연령3040', '연령4060', '연령60이상']\n",
    "\n",
    "\n",
    "# NA 확인\n",
    "# 둘 다 없음\n",
    "\n",
    "# column명 확인\n",
    "# final_merged_by_day_v7\n",
    "# base_col+time_col+pop_col+pop_col_korean+pop_col_foreign+weather_col+card_col+search_col+entrance_col+age\n",
    "# final_merged_by_day_v7_7_8\n",
    "# [\"base_date\",\"emd_nm\"]+time_col+pop_col+weather_col+search_col+entrance_col+age\n",
    "\n",
    "# mean_col\n",
    "# weather_col + entrance_col + age + pop_col"
   ]
  },
  {
   "cell_type": "code",
   "execution_count": 21,
   "id": "649b3fd7-908f-4850-91be-64edd4a71f77",
   "metadata": {},
   "outputs": [],
   "source": [
    "fielapath = \"./data\"\n",
    "dd = pd.read_csv(os.path.join(filepath,\"final_merged_by_day_v7.csv\"))\n",
    "dd_78 = pd.read_csv(os.path.join(filepath,\"final_merged_by_day_v7_7_8.csv\"))"
   ]
  },
  {
   "cell_type": "code",
   "execution_count": 22,
   "id": "14b2e91b-961f-47b0-9124-71d66bf8d231",
   "metadata": {},
   "outputs": [],
   "source": [
    "dd = dd[base_col+time_col+pop_col+pop_col_korean+pop_col_foreign+weather_col+card_col+search_col+entrance_col+age]\n",
    "dd_78 = dd_78[[\"base_date\",\"emd_nm\"]+time_col+pop_col+weather_col+search_col+entrance_col+age]"
   ]
  },
  {
   "cell_type": "code",
   "execution_count": 23,
   "id": "48bb6bc2-69df-4427-be14-da43bf90250b",
   "metadata": {},
   "outputs": [
    {
     "name": "stdout",
     "output_type": "stream",
     "text": [
      "NA check\n",
      "...There's no NA\n",
      "NA check\n",
      "...There's no NA\n"
     ]
    },
    {
     "data": {
      "text/plain": [
       "(None, None)"
      ]
     },
     "execution_count": 23,
     "metadata": {},
     "output_type": "execute_result"
    }
   ],
   "source": [
    "check_NA(dd), check_NA(dd_78)"
   ]
  },
  {
   "cell_type": "code",
   "execution_count": null,
   "id": "398e4e60-f0fb-46ba-a3a0-7c639f7b347f",
   "metadata": {},
   "outputs": [],
   "source": [
    "weather_final = pd.read_csv(os.path.join(filepath,'final_merged_by_day_ver4.csv'))"
   ]
  },
  {
   "cell_type": "code",
   "execution_count": 123,
   "id": "05e20cae-c6a2-4e4e-9d4e-6170de44707b",
   "metadata": {},
   "outputs": [
    {
     "name": "stdout",
     "output_type": "stream",
     "text": [
      "(49609, 78) (2542, 39)\n"
     ]
    }
   ],
   "source": [
    "dd = pd.read_csv(os.path.join(filepath,'final_merged_by_day_ver4.csv'))\n",
    "dd_78 = pd.read_csv(os.path.join(filepath,'final_merged_by_day_ver4_7_8.csv'))\n",
    "print(dd.shape, dd_78.shape)"
   ]
  },
  {
   "cell_type": "code",
   "execution_count": 124,
   "id": "8ff86ca8-65a2-492c-9736-8b8b06720415",
   "metadata": {},
   "outputs": [
    {
     "data": {
      "text/plain": [
       "Index(['base_date', 'emd_nm', 'pay_amt', 'em_g', 'em_cnt', 'city', 'cluster',\n",
       "       'holidays', 'korean_resd_pop', 'foreign_resd_pop', 'total_resd_pop',\n",
       "       'foreign_resd_ratio', 'fam', 'pop_per_fam', 'popdens', 'resd_pop_cnt',\n",
       "       'work_pop_jeju', 'work_pop_etc', 'visit_pop_jeju', 'visit_pop_etc',\n",
       "       'visit_short', 'CHN_short', 'JPN_short', 'USA_short', 'CHN_ratio_short',\n",
       "       'NotCHN_short', 'resd_jeju', 'country_1_all_jeju',\n",
       "       'country_2_resd_jeju', 'country_2_visit_jeju', 'country_3_resd_jeju',\n",
       "       'country_4_resd_jeju', 'country_7_all_jeju', 'country_3_all_etc', '강수',\n",
       "       '기온', '습도', '풍속', '태풍', '유형1_cnt', '유형1_amt', '유형2_cnt', '유형2_amt',\n",
       "       '유형3_cnt', '유형3_amt', '농축수산물_cnt', '농축수산물_amt', '배달_cnt', '배달_amt',\n",
       "       '배달_ratio', '유형1_ratio', '유형2_ratio', '유형3_ratio', '농축수산물_ratio',\n",
       "       '검색_관광', '검색_쇼핑', '검색_쓰레기', '검색_한파', '검색_강풍', '검색_태풍', '검색_장마', '검색_폭염',\n",
       "       '검색_우박', '검색_날씨', '검색_미세먼지', '검색_황사', '읍면동별검색_생활', '읍면동별검색_관광',\n",
       "       '읍면동별검색_쇼핑', '총계_월', '내국인전체_월', '외국인_월', '연령0020', '연령2030',\n",
       "       '연령2040_rt', '연령3040', '연령4060', '연령60이상'],\n",
       "      dtype='object')"
      ]
     },
     "execution_count": 124,
     "metadata": {},
     "output_type": "execute_result"
    }
   ],
   "source": [
    "dd.columns"
   ]
  },
  {
   "cell_type": "code",
   "execution_count": 125,
   "id": "84a23e7b-3132-4383-aea7-01ffb390ec80",
   "metadata": {},
   "outputs": [],
   "source": [
    "dd = dd.drop(['강수','기온', '습도','풍속'], axis=1)\n",
    "dd_78 = dd_78.drop(['강수','기온', '습도','풍속'], axis=1)\n",
    "dd = pd.merge(dd, weather_final, on=['base_date','emd_nm'], how=\"left\")\n",
    "dd_78 = pd.merge(dd_78, weather_final, on=['base_date','emd_nm'], how=\"left\")"
   ]
  }
 ],
 "metadata": {
  "kernelspec": {
   "display_name": "Python 3",
   "language": "python",
   "name": "python3"
  },
  "language_info": {
   "codemirror_mode": {
    "name": "ipython",
    "version": 3
   },
   "file_extension": ".py",
   "mimetype": "text/x-python",
   "name": "python",
   "nbconvert_exporter": "python",
   "pygments_lexer": "ipython3",
   "version": "3.7.11"
  }
 },
 "nbformat": 4,
 "nbformat_minor": 5
}
